{
 "cells": [
  {
   "cell_type": "code",
   "execution_count": 1,
   "metadata": {
    "collapsed": true
   },
   "outputs": [],
   "source": [
    "from sklearn.neural_network import MLPClassifier\n",
    "from sklearn.preprocessing import StandardScaler\n",
    "from sklearn.metrics import classification_report,confusion_matrix,accuracy_score\n",
    "import pandas as pd\n",
    "from pandas import DataFrame,Series\n",
    "from matplotlib.colors import ListedColormap\n",
    "import numpy as np\n",
    "from sklearn.metrics import accuracy_score,confusion_matrix,classification_report\n",
    "import matplotlib.pyplot as plt\n",
    "from pandas.plotting import scatter_matrix\n",
    "from random import sample"
   ]
  },
  {
   "cell_type": "code",
   "execution_count": 69,
   "metadata": {},
   "outputs": [
    {
     "name": "stdout",
     "output_type": "stream",
     "text": [
      "('(#row,#column) of train dataset', (406, 46))\n",
      "('(#row,#column) of test dataset', (40, 46))\n"
     ]
    }
   ],
   "source": [
    "multi_layer_dup_train = pd.read_csv('../FeaturesCsvFile/featuresfile.csv')\n",
    "multi_layer_dup_test = pd.read_csv('../FeaturesCsvFile/featuresfile_10.csv')\n",
    "multi_layer_train = multi_layer_dup_train.drop_duplicates(subset=['User', 'Timestamp'])\n",
    "multi_layer_unique_test = multi_layer_dup_test.drop_duplicates(subset=['User', 'Timestamp'])\n",
    "multi_layer_test = multi_layer_unique_test.iloc[sample(range(len(multi_layer_unique_test)), 40), :]\n",
    "\n",
    "print ('(#row,#column) of train dataset' , multi_layer_train.shape)\n",
    "print ('(#row,#column) of test dataset' , multi_layer_test.shape)"
   ]
  },
  {
   "cell_type": "code",
   "execution_count": 70,
   "metadata": {
    "collapsed": true
   },
   "outputs": [],
   "source": [
    "X_train = multi_layer_train.values[:, 2:45]\n",
    "y_train = multi_layer_train.values[:, 45]\n",
    "X_test = multi_layer_test.values[:, 2:45]\n",
    "y_test = multi_layer_test.values[:, 45]"
   ]
  },
  {
   "cell_type": "code",
   "execution_count": 71,
   "metadata": {},
   "outputs": [],
   "source": [
    "scaler = StandardScaler()\n",
    "scaler.fit(X_train)\n",
    "StandardScaler(copy=True, with_mean=True, with_std=True)\n",
    "X_train = scaler.transform(X_train)\n",
    "X_test = scaler.transform(X_test)"
   ]
  },
  {
   "cell_type": "code",
   "execution_count": 59,
   "metadata": {},
   "outputs": [
    {
     "name": "stdout",
     "output_type": "stream",
     "text": [
      "[[22  3]\n",
      " [ 1 14]]\n",
      "             precision    recall  f1-score   support\n",
      "\n",
      "    running       0.96      0.88      0.92        25\n",
      "    walking       0.82      0.93      0.87        15\n",
      "\n",
      "avg / total       0.91      0.90      0.90        40\n",
      "\n",
      "\n",
      "Accuracy of Multi-layer Perceptron Score: 0.90\n",
      "\n",
      "Accuracy of Accuracy Score : 0.90\n"
     ]
    }
   ],
   "source": [
    "mlp = MLPClassifier(hidden_layer_sizes=(20,),max_iter=60)\n",
    "mlp_pred=mlp.fit(X_train,y_train)\n",
    "y_pred = mlp.predict(X_test)\n",
    "print(confusion_matrix(y_test,y_pred))\n",
    "print(classification_report(y_test,y_pred))\n",
    "print('\\nAccuracy of Multi-layer Perceptron Score: %.2f' % mlp.score(X_test,y_test))\n",
    "print('\\nAccuracy of Accuracy Score : %.2f' % accuracy_score(y_test,y_pred))"
   ]
  },
  {
   "cell_type": "code",
   "execution_count": 63,
   "metadata": {},
   "outputs": [
    {
     "name": "stdout",
     "output_type": "stream",
     "text": [
      "[-0.09  0.14 -0.05 -0.01 -0.08 -0.09 -0.04  0.14 -0.17 -0.16 -0.04  0.06\n",
      "  0.27  0.12 -0.14 -0.08  0.29  0.16 -0.09 -0.02]\n",
      "[ 0.33  0.05 -0.05  0.32  0.16 -0.22  0.27 -0.02  0.21  0.09  0.2  -0.14\n",
      "  0.26 -0.23  0.35 -0.11  0.01 -0.07  0.14 -0.12]\n",
      "[-0.14 -0.08 -0.33 -0.05  0.35  0.11 -0.01 -0.29  0.24 -0.16  0.05  0.03\n",
      " -0.06  0.08  0.29 -0.2   0.17  0.28  0.23  0.08]\n",
      "[-0.08 -0.08 -0.31  0.27  0.04  0.   -0.21 -0.25  0.1  -0.14 -0.    0.25\n",
      " -0.15  0.1   0.15  0.02 -0.31  0.16 -0.22  0.12]\n",
      "[ 0.23  0.18  0.06 -0.24 -0.18  0.08  0.1   0.1   0.03 -0.13 -0.11  0.31\n",
      " -0.19 -0.2  -0.18 -0.04  0.22 -0.42  0.29  0.14]\n",
      "[-0.22  0.19  0.03  0.01 -0.25  0.27 -0.26  0.31 -0.09  0.13 -0.15  0.34\n",
      " -0.28  0.05  0.09 -0.09 -0.06 -0.28 -0.1   0.17]\n",
      "[-0.02 -0.1  -0.17  0.02  0.07 -0.07 -0.11 -0.21  0.03 -0.07  0.   -0.11\n",
      "  0.2   0.1  -0.28 -0.18 -0.14 -0.18  0.04 -0.29]\n",
      "[ 0.12 -0.32 -0.24  0.15 -0.15 -0.02 -0.01  0.32  0.14  0.02  0.21  0.\n",
      "  0.25  0.25  0.1   0.07  0.13 -0.15 -0.07 -0.39]\n",
      "[ 0.22  0.17  0.18  0.08  0.16 -0.14 -0.02 -0.11  0.12 -0.03  0.27  0.15\n",
      " -0.15 -0.18  0.17  0.03  0.06  0.13  0.11 -0.08]\n",
      "[-0.23 -0.31  0.19  0.28  0.19  0.03 -0.28 -0.26 -0.25  0.09  0.16 -0.08\n",
      "  0.12  0.18 -0.17  0.29 -0.15 -0.15 -0.26 -0.17]\n",
      "[ 0.27 -0.26  0.03 -0.03 -0.07 -0.03  0.2   0.06 -0.18  0.25 -0.25  0.1\n",
      " -0.05  0.1   0.15 -0.15  0.27  0.11  0.25  0.24]\n",
      "[ 0.15 -0.34 -0.14  0.13  0.09 -0.03 -0.11 -0.25 -0.03 -0.16  0.29  0.13\n",
      " -0.13  0.08  0.22  0.1   0.16 -0.08 -0.21 -0.11]\n",
      "[ 0.18 -0.01 -0.28  0.06  0.23 -0.18  0.04 -0.17  0.19 -0.18  0.23  0.02\n",
      "  0.12  0.28  0.02 -0.23  0.17  0.4  -0.04 -0.03]\n",
      "[-0.27  0.2   0.04 -0.11 -0.11 -0.09 -0.24  0.2  -0.05  0.15 -0.15  0.19\n",
      "  0.01  0.15  0.3   0.29 -0.29 -0.23  0.15  0.03]\n",
      "[-0.31 -0.02  0.21  0.17 -0.33  0.35 -0.05  0.28  0.22  0.12 -0.13 -0.11\n",
      " -0.1  -0.02  0.06  0.21 -0.18  0.12 -0.23 -0.06]\n",
      "[ 0.23  0.24 -0.33  0.    0.23 -0.3   0.09  0.23  0.19  0.04 -0.13 -0.33\n",
      " -0.19  0.04 -0.28  0.28  0.06  0.23 -0.05  0.13]\n",
      "[-0.17 -0.24 -0.17 -0.09  0.23 -0.21  0.05 -0.11  0.1   0.06 -0.26 -0.11\n",
      "  0.01  0.1   0.18  0.12 -0.15  0.13 -0.27  0.08]\n",
      "[-0.21  0.28 -0.25  0.12 -0.08  0.02 -0.11  0.32 -0.01 -0.26 -0.   -0.19\n",
      " -0.34  0.03 -0.15 -0.35 -0.24  0.16 -0.27  0.25]\n",
      "[ 0.3  -0.14 -0.1   0.1   0.06 -0.01 -0.04  0.19 -0.05  0.17  0.24 -0.11\n",
      " -0.08 -0.09  0.23 -0.11 -0.1  -0.21 -0.23  0.27]\n",
      "[-0.13  0.   -0.21 -0.3  -0.31 -0.18 -0.33  0.23  0.13 -0.15 -0.26  0.15\n",
      "  0.03 -0.3  -0.24 -0.12 -0.04 -0.39  0.15  0.15]\n",
      "[ 0.03  0.18  0.03  0.19  0.02  0.16 -0.16 -0.1  -0.08 -0.02  0.19  0.33\n",
      "  0.2  -0.01 -0.11  0.32 -0.14 -0.08 -0.21 -0.12]\n",
      "[-0.12  0.26  0.3  -0.22 -0.32 -0.14  0.14  0.06  0.04  0.1   0.09 -0.14\n",
      " -0.06 -0.13 -0.2  -0.22 -0.12 -0.17 -0.21 -0.16]\n",
      "[-0.22  0.12  0.35  0.29  0.17  0.06  0.09  0.18  0.22  0.24 -0.26 -0.11\n",
      "  0.08 -0.18  0.19 -0.13 -0.31 -0.26 -0.23 -0.05]\n",
      "[ 0.2  -0.27 -0.2  -0.09 -0.19  0.03  0.13 -0.27  0.27  0.18  0.19  0.13\n",
      "  0.26  0.26 -0.24 -0.2   0.06  0.23 -0.23  0.05]\n",
      "[ 0.16 -0.16 -0.16  0.1   0.19 -0.26 -0.16 -0.06 -0.25 -0.01 -0.29 -0.24\n",
      " -0.12  0.15  0.2  -0.17  0.02 -0.15  0.05 -0.23]\n",
      "[-0.17  0.14  0.17 -0.18 -0.12  0.19 -0.04 -0.18 -0.28 -0.1  -0.23  0.06\n",
      "  0.24 -0.1   0.06  0.23 -0.06  0.07 -0.14  0.12]\n",
      "[-0.36  0.23 -0.18  0.23 -0.12 -0.06 -0.33  0.14 -0.02 -0.39 -0.3   0.04\n",
      "  0.13 -0.22  0.12 -0.    0.09 -0.18 -0.2   0.32]\n",
      "[-0.18 -0.17  0.31 -0.08  0.19 -0.   -0.25  0.14 -0.23  0.25 -0.08  0.01\n",
      "  0.2  -0.1  -0.2  -0.1   0.19 -0.21 -0.03 -0.15]\n",
      "[ 0.23 -0.18 -0.22 -0.03 -0.13 -0.05  0.19 -0.05  0.18  0.08  0.2  -0.31\n",
      " -0.18  0.11 -0.23 -0.07 -0.06 -0.09 -0.24 -0.16]\n",
      "[ 0.25 -0.28  0.16  0.14 -0.24  0.23 -0.11  0.1  -0.17 -0.29  0.22 -0.24\n",
      " -0.02  0.11 -0.09  0.22 -0.05 -0.    0.08 -0.01]\n",
      "[-0.4   0.09  0.02  0.02 -0.31 -0.03  0.05  0.06 -0.17  0.39 -0.29  0.32\n",
      " -0.15  0.15  0.13  0.06  0.13 -0.07  0.31 -0.02]\n",
      "[ 0.01 -0.09 -0.16 -0.02 -0.28  0.2   0.19 -0.21  0.16  0.33 -0.04 -0.11\n",
      " -0.41 -0.11 -0.12 -0.08  0.18 -0.24  0.3   0.29]\n",
      "[ 0.07 -0.1   0.33 -0.09  0.13  0.11 -0.4   0.18 -0.31  0.05 -0.09  0.35\n",
      " -0.11 -0.17 -0.45 -0.15  0.03  0.09 -0.18  0.11]\n",
      "[-0.11  0.08 -0.18 -0.1   0.27 -0.38 -0.14 -0.37  0.4  -0.24 -0.03 -0.2\n",
      "  0.03  0.09  0.38  0.25  0.16  0.29 -0.08  0.07]\n",
      "[ 0.09 -0.01  0.08  0.16  0.05 -0.18  0.37 -0.41  0.06  0.18  0.29 -0.27\n",
      "  0.42 -0.29  0.09  0.07  0.38  0.21  0.05 -0.11]\n",
      "[-0.07  0.17 -0.26  0.12 -0.09 -0.16  0.05 -0.37 -0.2  -0.17 -0.12  0.1\n",
      " -0.02 -0.27 -0.13 -0.15  0.34  0.08 -0.27 -0.31]\n",
      "[ 0.27 -0.19 -0.05  0.09  0.27 -0.01 -0.31  0.    0.2  -0.21 -0.03  0.31\n",
      "  0.06  0.23 -0.44 -0.03 -0.24 -0.36 -0.19 -0.22]\n",
      "[-0.11  0.24  0.07 -0.25  0.17 -0.08 -0.39 -0.17 -0.18  0.13  0.17  0.42\n",
      " -0.4  -0.03 -0.39  0.12  0.12 -0.42  0.16 -0.16]\n",
      "[ 0.1   0.17 -0.38  0.21 -0.17 -0.15  0.    0.01  0.17 -0.05  0.36 -0.34\n",
      "  0.05  0.07  0.29  0.03  0.14 -0.09  0.11  0.03]\n",
      "[ 0.29 -0.11 -0.18  0.35  0.17 -0.34  0.18  0.09 -0.16  0.01  0.03  0.03\n",
      " -0.01  0.19 -0.04  0.09  0.04 -0.18 -0.29 -0.39]\n",
      "[ 0.32  0.05  0.2   0.26  0.12 -0.07  0.28 -0.37  0.22  0.06 -0.05  0.13\n",
      "  0.13 -0.24  0.17  0.38  0.34  0.26  0.13  0.06]\n",
      "[ 0.3  -0.33 -0.15  0.   -0.18  0.09 -0.03 -0.23  0.17  0.19 -0.06 -0.27\n",
      "  0.34 -0.1  -0.1  -0.03 -0.09 -0.18 -0.11 -0.28]\n",
      "[-0.13 -0.03  0.24 -0.24  0.2  -0.27 -0.15  0.2   0.2   0.03 -0.1  -0.26\n",
      " -0.22 -0.11  0.14 -0.19 -0.25  0.08  0.01 -0.19]\n"
     ]
    }
   ],
   "source": [
    "for i in range(0,len(mlp.coefs_[0])):\n",
    "    print mlp.coefs_[0][i]"
   ]
  },
  {
   "cell_type": "code",
   "execution_count": 68,
   "metadata": {},
   "outputs": [
    {
     "name": "stdout",
     "output_type": "stream",
     "text": [
      "Important features (featureName, weigh of important, #column)\n",
      "('StdDev-y', 0.11856774245202002, 42)\n",
      "('Bin2,x', 0.070739032320360315, 3)\n",
      "('AvgAbsDiff-y', 0.062513738529986443, 36)\n",
      "('Bin9,x', 0.057268960437239516, 10)\n",
      "('Bin1,y', 0.05130342349274266, 12)\n",
      "('Bin3,y', 0.041779064470997697, 14)\n",
      "('Bin1,z', 0.031269696890251851, 22)\n",
      "('Bin3,x', 0.029507054837830716, 4)\n",
      "('AvgAcc-z', 0.028498096435685367, 40)\n",
      "('Bin8,x', 0.019793966854913043, 9)\n",
      "('Bin6,y', 0.019664466343774677, 17)\n",
      "('Bin4,z', 0.015621769570225688, 25)\n",
      "('Bin9,y', 0.015421246134956965, 20)\n",
      "('TimeDiffPeaks-x', 0.014885141168728588, 32)\n",
      "('Bin3,z', 0.01265772405696342, 24)\n",
      "('Bin5,y', 0.0099705655485033094, 16)\n",
      "('AvgAbsDiff-x', 0.0095896804296363748, 35)\n",
      "('Bin4,y', 0.0092610592377099839, 15)\n",
      "('Bin1,x', 0.0048805534885554896, 2)\n",
      "('Bin5,x', 0.0025254177027418333, 6)\n",
      "('Bin10,z', -4.8158168694558982e-05, 31)\n",
      "('Bin6,x', -0.0097492656234266489, 7)\n",
      "('TimeDiffPeaks-y', -0.011371135092482762, 33)\n",
      "('StdDev-x', -0.011582157834018248, 41)\n",
      "('Bin2,y', -0.012092007357850505, 13)\n",
      "('Bin6,z', -0.014548667184813019, 27)\n",
      "('Bin8,z', -0.02499960499567027, 29)\n",
      "('Bin4,x', -0.027295806781554594, 5)\n",
      "('TimeDiffPeaks-z', -0.029502712054923431, 34)\n",
      "('Bin7,y', -0.03741234696079667, 18)\n",
      "('Bin10,x', -0.039573191463880983, 11)\n",
      "('AvgAcc-x', -0.042129079649980722, 38)\n",
      "('AvgAcc-y', -0.049046067574073378, 39)\n",
      "('Bin9,z', -0.050199097913761072, 30)\n",
      "('AvgResAcc', -0.051772577236402675, 44)\n",
      "('StdDev-z', -0.052366643249193066, 43)\n",
      "('Bin7,z', -0.052915845151429927, 28)\n",
      "('Bin2,z', -0.060534247260531512, 23)\n",
      "('Bin8,y', -0.06483474958925442, 19)\n",
      "('Bin5,z', -0.069967243144852406, 26)\n",
      "('Bin7,x', -0.07371541552481807, 8)\n",
      "('AvgAbsDiff-z', -0.086473916510525911, 37)\n",
      "('Bin10,y', -0.10565482723871462, 21)\n"
     ]
    }
   ],
   "source": [
    "avg_weight = []\n",
    "for i in range(0,len(mlp.coefs_[0])):\n",
    "    avg_weight.append(np.mean(mlp.coefs_[0][i]))\n",
    "print ('Important features (featureName, weigh of important, #column)')\n",
    "header = list(multi_layer_train.head(1))\n",
    "important_feature = []\n",
    "for i in range(0,len(avg_weight)):\n",
    "     important_feature.append((header[i+2],avg_weight[i],i+2))\n",
    "sorted_list = sorted(important_feature,key=lambda important_feature: important_feature[1],reverse=True)\n",
    "for j in range(0,len(sorted_list)):\n",
    "        first_imp_fea = sorted_list[0]\n",
    "        second_imp_fea = sorted_list[1]\n",
    "        print sorted_list[j]"
   ]
  },
  {
   "cell_type": "code",
   "execution_count": 67,
   "metadata": {},
   "outputs": [],
   "source": [
    "from sklearn import metrics\n",
    "def plot_roc_curve(Y_predict,Y_test,name_graph):\n",
    "    num_predns = []\n",
    "    for i in range(0,len(Y_predict)):\n",
    "        if Y_predict[i] == \"walking\":\n",
    "            num_predns.append(0)\n",
    "        else:\n",
    "            num_predns.append(1)\n",
    "    num_labels = []\n",
    "    for i in range(0,len(Y_test)):\n",
    "        if Y_test[i] == \"walking\":\n",
    "            num_labels.append(0)\n",
    "        else:\n",
    "            num_labels.append(1)\n",
    "\n",
    "    predns = np.array(num_predns)\n",
    "    labels = np.array(num_labels)\n",
    "    fpr, tpr, thresholds = metrics.roc_curve(labels, predns)\n",
    "    roc_auc = metrics.auc(fpr, tpr)\n",
    "    plt.title('Area under ROC Curve')\n",
    "    plt.plot(fpr, tpr, 'grey', label = 'AUC = %0.2f' % roc_auc)\n",
    "    plt.legend(loc = 'lower right')\n",
    "    plt.plot([0, 1], [0, 1],'r--')\n",
    "    plt.xlim([0, 1])\n",
    "    plt.ylim([0, 1])\n",
    "    plt.ylabel('True Positive Rate')\n",
    "    plt.xlabel('False Positive Rate')\n",
    "#     plt.show()\n",
    "    plt.savefig('./image/roc_multipc.png', dpi=100)\n",
    "    \n",
    "plot_roc_curve(y_pred,y_test,\"Area_under_roc_pc\")"
   ]
  },
  {
   "cell_type": "code",
   "execution_count": 66,
   "metadata": {},
   "outputs": [
    {
     "name": "stdout",
     "output_type": "stream",
     "text": [
      "Confusion matrix, without normalization\n",
      "[[22  3]\n",
      " [ 1 14]]\n",
      "Normalized confusion matrix\n",
      "[[ 0.88  0.12]\n",
      " [ 0.07  0.93]]\n"
     ]
    },
    {
     "data": {
      "image/png": "[encoded data removed]",
      "text/plain": [
       "<matplotlib.figure.Figure at 0x10ecaacd0>"
      ]
     },
     "metadata": {},
     "output_type": "display_data"
    },
    {
     "data": {
      "image/png": "[encoded data removed]",
      "text/plain": [
       "<matplotlib.figure.Figure at 0x10d658c10>"
      ]
     },
     "metadata": {},
     "output_type": "display_data"
    }
   ],
   "source": [
    "import itertools\n",
    "import numpy as np\n",
    "import matplotlib.pyplot as plt\n",
    "\n",
    "def plot_confusion_matrix(cm, classes,\n",
    "                          normalize=False,\n",
    "                          title='Confusion matrix',\n",
    "                          cmap=plt.cm.Greens):\n",
    "    \"\"\"\n",
    "    This function prints and plots the confusion matrix.\n",
    "    Normalization can be applied by setting `normalize=True`.\n",
    "    \"\"\"\n",
    "    if normalize:\n",
    "        cm = cm.astype('float') / cm.sum(axis=1)[:, np.newaxis]\n",
    "        print(\"Normalized confusion matrix\")\n",
    "    else:\n",
    "        print('Confusion matrix, without normalization')\n",
    "\n",
    "    print(cm)\n",
    "\n",
    "    plt.imshow(cm, interpolation='nearest', cmap=cmap)\n",
    "    plt.title(title)\n",
    "    plt.colorbar()\n",
    "    tick_marks = np.arange(len(classes))\n",
    "    plt.xticks(tick_marks, classes)\n",
    "    plt.yticks(tick_marks, classes, rotation=90)\n",
    "\n",
    "    fmt = '.2f' if normalize else 'd'\n",
    "    thresh = cm.max() / 2.\n",
    "    for i, j in itertools.product(range(cm.shape[0]), range(cm.shape[1])):\n",
    "        plt.text(j, i, format(cm[i, j], fmt),\n",
    "                 horizontalalignment=\"center\",\n",
    "                 color=\"white\" if cm[i, j] > thresh else \"black\")\n",
    "\n",
    "    plt.ylabel('True label')\n",
    "    plt.xlabel('Predicted label')\n",
    "\n",
    "cnf_matrix = confusion_matrix(y_test, y_pred)\n",
    "np.set_printoptions(precision=2)\n",
    "\n",
    "# Plot non-normalized confusion matrix\n",
    "# plt.figure()\n",
    "class_names = [\"walking\", \"running\"]\n",
    "plot_confusion_matrix(cnf_matrix, classes=[\"walking\", \"running\"],\n",
    "                      title='Confusion matrix, without normalization')\n",
    "plt.savefig('./image/confusion_matrix_multipc.png', dpi=100)\n",
    "# plt.savefig('H:/mastersProject/activity_analyzer/LogisticRegression/cm_lr', dpi=1000)\n",
    "\n",
    "# Plot normalized confusion matrix\n",
    "plt.figure()\n",
    "plot_confusion_matrix(cnf_matrix, classes=class_names, normalize=True,\n",
    "                      title='Normalized confusion matrix')\n",
    "plt.show()"
   ]
  }
 ],
 "metadata": {
  "kernelspec": {
   "display_name": "Python 2",
   "language": "python",
   "name": "python2"
  },
  "language_info": {
   "codemirror_mode": {
    "name": "ipython",
    "version": 2
   },
   "file_extension": ".py",
   "mimetype": "text/x-python",
   "name": "python",
   "nbconvert_exporter": "python",
   "pygments_lexer": "ipython2",
   "version": "2.7.13"
  }
 },
 "nbformat": 4,
 "nbformat_minor": 2
}
