{
 "cells": [
  {
   "cell_type": "code",
   "execution_count": 1,
   "metadata": {
    "collapsed": true
   },
   "outputs": [],
   "source": [
    "import pandas as pd\n",
    "import numpy as np\n",
    "from sklearn.linear_model import Perceptron\n",
    "from sklearn.model_selection import train_test_split\n",
    "from sklearn.metrics import accuracy_score,confusion_matrix,classification_report\n",
    "import matplotlib.pyplot as plt\n",
    "from pandas.plotting import scatter_matrix"
   ]
  },
  {
   "cell_type": "code",
   "execution_count": 2,
   "metadata": {},
   "outputs": [
    {
     "data": {
      "text/plain": [
       "(417, 46)"
      ]
     },
     "execution_count": 2,
     "metadata": {},
     "output_type": "execute_result"
    }
   ],
   "source": [
    "df = pd.read_csv('../FeaturesCsvFile/featuresfile.csv')\n",
    "df.shape"
   ]
  },
  {
   "cell_type": "code",
   "execution_count": 51,
   "metadata": {},
   "outputs": [
    {
     "name": "stdout",
     "output_type": "stream",
     "text": [
      "<type 'numpy.ndarray'>\n",
      "[0 0 0 0 0 0 0 1 0 1 1 1 0 0 0 0 0 1 1 1 1 0 0 1 0 0 1 1 1 1 1 1 1 1 0 0 0\n",
      " 0 1 1 1 0 0 0 1 0 0 0 0 1 0 0 1 0 1 1 0 0 0 1 0 0 0 0 1 1 0 1 1 0 1 0 1 0\n",
      " 1 0 0 1 1 1 1 1 0 1 0 1 0 1 0 0 0 1 1 0 0 1 0 1 0 1 0 1 0 1 0 0 1 1 1 0 1\n",
      " 0 1 1 1 0 1 0 0 0 0 0 0 0 0 1]\n",
      "<type 'numpy.ndarray'>\n",
      "[0 0 0 0 0 0 0 1 0 1 1 1 0 0 0 0 0 1 1 1 1 0 0 1 0 0 0 1 1 1 0 0 1 1 0 0 0\n",
      " 0 1 1 1 0 0 0 1 0 0 0 0 1 0 0 1 0 1 1 0 0 0 1 0 0 0 0 1 1 0 1 1 0 1 0 1 0\n",
      " 1 0 0 1 1 1 1 1 0 1 0 1 0 1 0 0 0 1 0 0 0 1 0 1 0 1 0 1 0 1 0 0 1 1 1 0 1\n",
      " 0 1 1 1 0 1 0 0 0 0 0 0 0 0 1]\n"
     ]
    }
   ],
   "source": [
    "X = df.values[:, 2:45]\n",
    "y = df.values[:, 45] #label : walking/runing\n",
    "y_plot = np.where(y == 'walking', 0, 1)\n",
    "X_train, X_test, y_train, y_test = train_test_split(X, y_plot, test_size=0.3)\n",
    "ppn = Perceptron(max_iter=40, eta0=0.1, random_state=1)\n",
    "ppn.fit(X_train, y_train)\n",
    "y_pred = ppn.predict(X_test)\n",
    "print (type(y_pred))\n",
    "print (y_pred)\n",
    "print (type(y_test))\n",
    "print (y_test)"
   ]
  },
  {
   "cell_type": "code",
   "execution_count": 26,
   "metadata": {},
   "outputs": [
    {
     "name": "stdout",
     "output_type": "stream",
     "text": [
      "Accuracy of Accuracy Score : 0.83\n"
     ]
    }
   ],
   "source": [
    "print('Accuracy of Accuracy Score : %.2f' % accuracy_score(y_test,y_pred))"
   ]
  },
  {
   "cell_type": "code",
   "execution_count": 25,
   "metadata": {},
   "outputs": [
    {
     "name": "stdout",
     "output_type": "stream",
     "text": [
      "Accuracy of Perceptron Score: 0.83\n"
     ]
    }
   ],
   "source": [
    "print('Accuracy of Perceptron Score: %.2f' % ppn.score(X_test,y_test))"
   ]
  },
  {
   "cell_type": "code",
   "execution_count": 19,
   "metadata": {},
   "outputs": [
    {
     "name": "stdout",
     "output_type": "stream",
     "text": [
      "Confusion_matrix\n",
      "[[71  1]\n",
      " [ 1 53]]\n"
     ]
    }
   ],
   "source": [
    "print ('Confusion_matrix')\n",
    "print(confusion_matrix(y_test,y_pred))"
   ]
  },
  {
   "cell_type": "code",
   "execution_count": 7,
   "metadata": {},
   "outputs": [
    {
     "name": "stdout",
     "output_type": "stream",
     "text": [
      "Important features (featureName, weigh of important, #column)\n",
      "('StdDev-x', 134.54573382624937, 41)\n",
      "('AvgAcc-z', 121.16392564828185, 40)\n",
      "('StdDev-z', 116.06279584422469, 43)\n",
      "('AvgAbsDiff-x', 114.84830617437348, 35)\n",
      "('StdDev-y', 101.90904747311946, 42)\n",
      "('AvgAbsDiff-z', 92.537781344373869, 37)\n",
      "('AvgAbsDiff-y', 84.633640577981595, 36)\n",
      "('TimeDiffPeaks-x', 23.589932453530086, 32)\n",
      "('AvgResAcc', 7.8475955164305402, 44)\n",
      "('Bin9,x', 3.4432528817298822, 10)\n",
      "('Bin8,x', 2.9039789942786016, 9)\n",
      "('Bin6,z', 2.8997102932648904, 27)\n",
      "('Bin6,y', 2.6880899121395085, 17)\n",
      "('Bin5,z', 2.6803970054451676, 26)\n",
      "('Bin3,y', 2.4554512650171301, 14)\n",
      "('Bin2,y', 2.213842420628966, 13)\n",
      "('Bin4,z', 2.1742780864727096, 25)\n",
      "('Bin3,x', 1.8151982129778814, 4)\n",
      "('Bin4,y', 1.4627023342434773, 15)\n",
      "('Bin10,x', 1.454554836074029, 11)\n",
      "('Bin7,y', 1.4418092310188133, 18)\n",
      "('Bin5,y', 1.4363673411264102, 16)\n",
      "('Bin7,z', 1.3117573834461895, 28)\n",
      "('Bin4,x', 1.1749455303083742, 5)\n",
      "('Bin2,x', 1.1522514372212231, 3)\n",
      "('Bin1,y', 0.59870900151330642, 12)\n",
      "('Bin3,z', 0.42387591935611851, 24)\n",
      "('Bin2,z', 0.40715538821629738, 23)\n",
      "('Bin1,z', 0.37178370428444613, 22)\n",
      "('Bin10,z', 0.32220035245003409, 31)\n",
      "('Bin1,x', 0.19713827896163244, 2)\n",
      "('Bin7,x', -0.0055298906161624431, 8)\n",
      "('Bin8,y', -0.094698781181239616, 19)\n",
      "('Bin9,z', -0.17195660296054488, 30)\n",
      "('Bin8,z', -0.32157539323024908, 29)\n",
      "('Bin5,x', -0.51522106230655329, 6)\n",
      "('Bin10,y', -0.81650463928040729, 21)\n",
      "('Bin9,y', -0.83680467298146655, 20)\n",
      "('Bin6,x', -1.6598371787165587, 7)\n",
      "('AvgAcc-x', -24.528596902513023, 38)\n",
      "('TimeDiffPeaks-z', -30.417487393970031, 34)\n",
      "('TimeDiffPeaks-y', -31.034208379510083, 33)\n",
      "('AvgAcc-y', -41.687412958544023, 39)\n"
     ]
    }
   ],
   "source": [
    "print ('Important features (featureName, weigh of important, #column)')\n",
    "header = list(df.head(1))\n",
    "important_feature = []\n",
    "for i in range(0,len(ppn.coef_[0])):\n",
    "    important_feature.append((header[i+2],ppn.coef_[0][i],i+2))\n",
    "sorted_list = sorted(important_feature,key=lambda important_feature: important_feature[1],reverse=True)\n",
    "for j in range(0,len(sorted_list)):\n",
    "        first_imp_fea = sorted_list[0]\n",
    "        second_imp_fea = sorted_list[1]\n",
    "        print sorted_list[j]"
   ]
  },
  {
   "cell_type": "code",
   "execution_count": 26,
   "metadata": {},
   "outputs": [
    {
     "data": {
      "image/png": "[encoded data removed]",
      "text/plain": [
       "<matplotlib.figure.Figure at 0x112fb1150>"
      ]
     },
     "metadata": {},
     "output_type": "display_data"
    }
   ],
   "source": [
    "#get data first 100 rows\n",
    "y = df.iloc[:, 45].values\n",
    "y = np.where(y == 'walking', -1, 1)\n",
    "#use AvgAbsDiff-x and AvgAbsDiff-y\n",
    "X = df.iloc[:, [40,42]].values\n",
    "# plot data\n",
    "plt.scatter(X[:len(df)/2, 0], X[:len(df)/2, 1],\n",
    "           color='red', marker='o', label='walking')\n",
    "plt.scatter(X[len(df)/2:len(df), 0], X[len(df)/2:len(df), 1],\n",
    "           color='blue', marker='x', label='running')\n",
    "\n",
    "plt.xlabel('%s'%first_imp_fea[0])\n",
    "plt.ylabel('%s'%second_imp_fea[0])\n",
    "plt.legend(loc='upper left')\n",
    "plt.tight_layout()\n",
    "plt.show()"
   ]
  },
  {
   "cell_type": "code",
   "execution_count": 43,
   "metadata": {},
   "outputs": [
    {
     "data": {
      "image/png": "[encoded data removed]",
      "text/plain": [
       "<matplotlib.figure.Figure at 0x11412d650>"
      ]
     },
     "metadata": {},
     "output_type": "display_data"
    }
   ],
   "source": [
    "frame = df.loc[:,['AvgAcc-z','StdDev-x']]\n",
    "test=scatter_matrix(frame,color='g')\n",
    "plt.show()"
   ]
  },
  {
   "cell_type": "code",
   "execution_count": 52,
   "metadata": {},
   "outputs": [],
   "source": [
    "import numpy as np\n",
    "from sklearn import metrics\n",
    "import matplotlib.pyplot as plt\n",
    "import pandas as pd\n",
    "from pandas import DataFrame,Series\n",
    "from matplotlib.colors import ListedColormap\n",
    "import numpy as np\n",
    "from sklearn.linear_model import Perceptron\n",
    "from sklearn.model_selection import train_test_split\n",
    "from sklearn.metrics import accuracy_score,confusion_matrix,classification_report\n",
    "import matplotlib.pyplot as plt\n",
    "from pandas.plotting import scatter_matrix\n",
    "from random import sample\n",
    "\n",
    "num_predns = []\n",
    "\n",
    "for i in range(0,len(y_pred)):\n",
    "    if y_pred[i] is \"walking\":\n",
    "        num_predns.append(0)\n",
    "    else:\n",
    "        num_predns.append(1)\n",
    "        \n",
    "num_labels = []\n",
    "\n",
    "for i in range(0,len(y_test)):\n",
    "    if y_test[i] is \"walking\":\n",
    "        num_labels.append(0)\n",
    "    else:\n",
    "        num_labels.append(1)"
   ]
  },
  {
   "cell_type": "code",
   "execution_count": 55,
   "metadata": {},
   "outputs": [
    {
     "name": "stdout",
     "output_type": "stream",
     "text": [
      "[1 1 1 1 1 1 1 1 1 1 1 1 1 1 1 1 1 1 1 1 1 1 1 1 1 1 1 1 1 1 1 1 1 1 1 1 1\n",
      " 1 1 1 1 1 1 1 1 1 1 1 1 1 1 1 1 1 1 1 1 1 1 1 1 1 1 1 1 1 1 1 1 1 1 1 1 1\n",
      " 1 1 1 1 1 1 1 1 1 1 1 1 1 1 1 1 1 1 1 1 1 1 1 1 1 1 1 1 1 1 1 1 1 1 1 1 1\n",
      " 1 1 1 1 1 1 1 1 1 1 1 1 1 1 1]\n",
      "[1 1 1 1 1 1 1 1 1 1 1 1 1 1 1 1 1 1 1 1 1 1 1 1 1 1 1 1 1 1 1 1 1 1 1 1 1\n",
      " 1 1 1 1 1 1 1 1 1 1 1 1 1 1 1 1 1 1 1 1 1 1 1 1 1 1 1 1 1 1 1 1 1 1 1 1 1\n",
      " 1 1 1 1 1 1 1 1 1 1 1 1 1 1 1 1 1 1 1 1 1 1 1 1 1 1 1 1 1 1 1 1 1 1 1 1 1\n",
      " 1 1 1 1 1 1 1 1 1 1 1 1 1 1 1]\n"
     ]
    }
   ],
   "source": [
    "predns = np.array(num_predns)\n",
    "print (predns)\n",
    "labels = np.array(num_labels)\n",
    "print (labels)\n",
    "fpr, tpr, thresholds = metrics.roc_curve(y_test, y_pred)"
   ]
  },
  {
   "cell_type": "code",
   "execution_count": 56,
   "metadata": {},
   "outputs": [
    {
     "name": "stdout",
     "output_type": "stream",
     "text": [
      "[ 0.          0.05479452  1.        ]\n",
      "[ 0.  1.  1.]\n"
     ]
    }
   ],
   "source": [
    "print (fpr)\n",
    "print (tpr)\n",
    "roc_auc = metrics.auc(fpr, tpr)"
   ]
  },
  {
   "cell_type": "code",
   "execution_count": 57,
   "metadata": {},
   "outputs": [
    {
     "data": {
      "image/png": "[encoded data removed]",
      "text/plain": [
       "<matplotlib.figure.Figure at 0x10f680a50>"
      ]
     },
     "metadata": {},
     "output_type": "display_data"
    }
   ],
   "source": [
    "plt.title('Area under ROC Curve')\n",
    "plt.plot(fpr, tpr, 'b', label = 'AUC = %0.2f' % roc_auc)\n",
    "plt.legend(loc = 'lower right')\n",
    "plt.plot([0, 1], [0, 1],'r--')\n",
    "plt.xlim([0, 1])\n",
    "plt.ylim([0, 1])\n",
    "plt.ylabel('True Positive Rate')\n",
    "plt.xlabel('False Positive Rate')\n",
    "plt.show()"
   ]
  }
 ],
 "metadata": {
  "kernelspec": {
   "display_name": "Python 2",
   "language": "python",
   "name": "python2"
  },
  "language_info": {
   "codemirror_mode": {
    "name": "ipython",
    "version": 2
   },
   "file_extension": ".py",
   "mimetype": "text/x-python",
   "name": "python",
   "nbconvert_exporter": "python",
   "pygments_lexer": "ipython2",
   "version": "2.7.13"
  }
 },
 "nbformat": 4,
 "nbformat_minor": 2
}
