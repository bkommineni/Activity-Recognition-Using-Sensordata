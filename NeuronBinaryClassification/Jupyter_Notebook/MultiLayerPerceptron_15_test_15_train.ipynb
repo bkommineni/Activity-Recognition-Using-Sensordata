{
 "cells": [
  {
   "cell_type": "code",
   "execution_count": 26,
   "metadata": {
    "collapsed": true
   },
   "outputs": [],
   "source": [
    "from sklearn.neural_network import MLPClassifier\n",
    "from sklearn.preprocessing import StandardScaler\n",
    "from sklearn.metrics import classification_report,confusion_matrix,accuracy_score\n",
    "from sklearn.model_selection import train_test_split\n",
    "import pandas as pd\n",
    "from pandas import DataFrame,Series\n",
    "from matplotlib.colors import ListedColormap\n",
    "import numpy as np\n",
    "from sklearn.metrics import accuracy_score,confusion_matrix,classification_report\n",
    "import matplotlib.pyplot as plt\n",
    "from pandas.plotting import scatter_matrix\n",
    "from random import sample"
   ]
  },
  {
   "cell_type": "code",
   "execution_count": 27,
   "metadata": {},
   "outputs": [
    {
     "data": {
      "text/plain": [
       "(821, 46)"
      ]
     },
     "execution_count": 27,
     "metadata": {},
     "output_type": "execute_result"
    }
   ],
   "source": [
    "dup_train = pd.read_csv('../FeaturesCsvFile/featuresfile.csv')\n",
    "dup_test = pd.read_csv('../FeaturesCsvFile/featuresfile_10.csv')\n",
    "df1 = dup_test.drop_duplicates(subset=['User', 'Timestamp'])\n",
    "df2 = dup_train.drop_duplicates(subset=['User', 'Timestamp'])\n",
    "frames = [df1, df2]\n",
    "df= pd.concat(frames)\n",
    "df.shape"
   ]
  },
  {
   "cell_type": "code",
   "execution_count": 30,
   "metadata": {},
   "outputs": [
    {
     "name": "stdout",
     "output_type": "stream",
     "text": [
      "Accuracy of Accuracy Score : 0.95\n",
      "Accuracy of Multi-Layer Perceptron Score: 0.95\n",
      "[[132   5]\n",
      " [  7 103]]\n",
      "             precision    recall  f1-score   support\n",
      "\n",
      "         -1       0.95      0.96      0.96       137\n",
      "          1       0.95      0.94      0.94       110\n",
      "\n",
      "avg / total       0.95      0.95      0.95       247\n",
      "\n"
     ]
    }
   ],
   "source": [
    "X = df.values[:, 2:45]\n",
    "y = df.values[:, 45] #label : walking/runing\n",
    "y_plot = np.where(y == 'walking', -1, 1)\n",
    "X_train, X_test, y_train, y_test = train_test_split(X, y_plot, test_size=0.3)\n",
    "scaler = StandardScaler()\n",
    "scaler.fit(X_train)\n",
    "StandardScaler(copy=True, with_mean=True, with_std=True)\n",
    "X_train = scaler.transform(X_train)\n",
    "X_test = scaler.transform(X_test)\n",
    "mlp = MLPClassifier(hidden_layer_sizes=(15,),max_iter=60)\n",
    "mlp.fit(X_train,y_train)\n",
    "y_pred = mlp.predict(X_test)\n",
    "print('Accuracy of Accuracy Score : %.2f' % accuracy_score(y_test,y_pred))\n",
    "print('Accuracy of Multi-Layer Perceptron Score: %.2f' % mlp.score(X_test,y_test))\n",
    "print(confusion_matrix(y_test,y_pred))\n",
    "print(classification_report(y_test,y_pred))"
   ]
  },
  {
   "cell_type": "code",
   "execution_count": 15,
   "metadata": {
    "scrolled": true
   },
   "outputs": [
    {
     "name": "stdout",
     "output_type": "stream",
     "text": [
      "Important features (featureName, weigh of important, #column)\n",
      "('Bin3,z', 0.10825592994061183, 24)\n",
      "('Bin6,x', 0.099050904501434653, 7)\n",
      "('AvgAcc-y', 0.072431320057493101, 39)\n",
      "('Bin5,x', 0.070197353658616207, 6)\n",
      "('StdDev-y', 0.059787564913883734, 42)\n",
      "('Bin7,z', 0.059601690509690934, 28)\n",
      "('Bin9,y', 0.044901323984415702, 20)\n",
      "('AvgAbsDiff-z', 0.030665486239005578, 37)\n",
      "('Bin3,y', 0.028917213562429201, 14)\n",
      "('AvgAcc-x', 0.027602009597943528, 38)\n",
      "('TimeDiffPeaks-y', 0.024406273141934252, 33)\n",
      "('Bin1,z', 0.022291450883107876, 22)\n",
      "('Bin8,y', 0.013387262576128274, 19)\n",
      "('Bin6,y', 0.012826037878942664, 17)\n",
      "('Bin8,x', 0.0092786045093103797, 9)\n",
      "('Bin2,z', 0.0088359802466105204, 23)\n",
      "('Bin7,x', 0.0084503892418165989, 8)\n",
      "('Bin3,x', 0.0061114596853632094, 4)\n",
      "('Bin5,y', 0.0055106417495060771, 16)\n",
      "('Bin6,z', 0.0029566149246515582, 27)\n",
      "('Bin10,y', 0.0019471520057938692, 21)\n",
      "('Bin9,z', 0.0013783328195343596, 30)\n",
      "('AvgAbsDiff-y', -0.0013050781765424346, 36)\n",
      "('Bin2,y', -0.0017919156902444012, 13)\n",
      "('Bin2,x', -0.003927755930684073, 3)\n",
      "('Bin4,y', -0.012892902034440549, 15)\n",
      "('AvgAbsDiff-x', -0.017511543702004303, 35)\n",
      "('Bin1,y', -0.01783316444767534, 12)\n",
      "('AvgAcc-z', -0.02037735095122958, 40)\n",
      "('StdDev-z', -0.022119987856093683, 43)\n",
      "('Bin7,y', -0.025977987046485441, 18)\n",
      "('Bin1,x', -0.033222958956476277, 2)\n",
      "('AvgResAcc', -0.034471345586067653, 44)\n",
      "('StdDev-x', -0.03807143267292027, 41)\n",
      "('Bin8,z', -0.044565909675076086, 29)\n",
      "('Bin10,z', -0.045433237271096466, 31)\n",
      "('TimeDiffPeaks-z', -0.048707633118018692, 34)\n",
      "('Bin5,z', -0.050599779731201909, 26)\n",
      "('Bin9,x', -0.051573141481606181, 10)\n",
      "('TimeDiffPeaks-x', -0.073463131772347243, 32)\n",
      "('Bin4,z', -0.092496139247622011, 25)\n",
      "('Bin10,x', -0.096060475320505878, 11)\n",
      "('Bin4,x', -0.11269002628339721, 5)\n"
     ]
    }
   ],
   "source": [
    "avg_weight = []\n",
    "for i in range(0,len(mlp.coefs_[0])):\n",
    "    avg_weight.append(np.mean(mlp.coefs_[0][i]))\n",
    "print ('Important features (featureName, weigh of important, #column)')\n",
    "header = list(df.head(1))\n",
    "important_feature = []\n",
    "for i in range(0,len(avg_weight)):\n",
    "     important_feature.append((header[i+2],avg_weight[i],i+2))\n",
    "sorted_list = sorted(important_feature,key=lambda important_feature: important_feature[1],reverse=True)\n",
    "for j in range(0,len(sorted_list)):\n",
    "        first_imp_fea = sorted_list[0]\n",
    "        second_imp_fea = sorted_list[1]\n",
    "        print sorted_list[j]"
   ]
  },
  {
   "cell_type": "code",
   "execution_count": 5,
   "metadata": {},
   "outputs": [
    {
     "data": {
      "image/png": "[encoded data removed]",
      "text/plain": [
       "<matplotlib.figure.Figure at 0x10b322990>"
      ]
     },
     "metadata": {},
     "output_type": "display_data"
    }
   ],
   "source": [
    "from sklearn import metrics\n",
    "def plot_roc_curve(Y_predict,Y_test,name_graph):\n",
    "    num_predns = []\n",
    "    for i in range(0,len(Y_predict)):\n",
    "        if Y_predict[i] == \"walking\":\n",
    "            num_predns.append(0)\n",
    "        else:\n",
    "            num_predns.append(1)\n",
    "    num_labels = []\n",
    "    for i in range(0,len(Y_test)):\n",
    "        if Y_test[i] == \"walking\":\n",
    "            num_labels.append(0)\n",
    "        else:\n",
    "            num_labels.append(1)\n",
    "\n",
    "    predns = np.array(num_predns)\n",
    "    labels = np.array(num_labels)\n",
    "    fpr, tpr, thresholds = metrics.roc_curve(y_test, y_pred)\n",
    "    roc_auc = metrics.auc(fpr, tpr)\n",
    "    plt.title('Area under ROC Curve')\n",
    "    plt.plot(fpr, tpr, 'grey', label = 'AUC = %0.2f' % roc_auc)\n",
    "    plt.legend(loc = 'lower right')\n",
    "    plt.plot([0, 1], [0, 1],'r--')\n",
    "    plt.xlim([0, 1])\n",
    "    plt.ylim([0, 1])\n",
    "    plt.ylabel('True Positive Rate')\n",
    "    plt.xlabel('False Positive Rate')\n",
    "    plt.show()\n",
    "#     plt.savefig('./image/Area_under_roc_pc.png', dpi=1000)\n",
    "    \n",
    "plot_roc_curve(y_pred,y_test,\"Area_under_roc_pc\")"
   ]
  },
  {
   "cell_type": "code",
   "execution_count": 31,
   "metadata": {},
   "outputs": [
    {
     "name": "stdout",
     "output_type": "stream",
     "text": [
      "Confusion matrix, without normalization\n",
      "[[132   5]\n",
      " [  7 103]]\n",
      "Normalized confusion matrix\n",
      "[[ 0.96  0.04]\n",
      " [ 0.06  0.94]]\n"
     ]
    },
    {
     "data": {
      "image/png": "[encoded data removed]",
      "text/plain": [
       "<matplotlib.figure.Figure at 0x110784350>"
      ]
     },
     "metadata": {},
     "output_type": "display_data"
    },
    {
     "data": {
      "image/png": "[encoded data removed]",
      "text/plain": [
       "<matplotlib.figure.Figure at 0x110968e90>"
      ]
     },
     "metadata": {},
     "output_type": "display_data"
    }
   ],
   "source": [
    "import itertools\n",
    "import numpy as np\n",
    "import matplotlib.pyplot as plt\n",
    "\n",
    "def plot_confusion_matrix(cm, classes,\n",
    "                          normalize=False,\n",
    "                          title='Confusion matrix',\n",
    "                          cmap=plt.cm.Greens):\n",
    "    \"\"\"\n",
    "    This function prints and plots the confusion matrix.\n",
    "    Normalization can be applied by setting `normalize=True`.\n",
    "    \"\"\"\n",
    "    if normalize:\n",
    "        cm = cm.astype('float') / cm.sum(axis=1)[:, np.newaxis]\n",
    "        print(\"Normalized confusion matrix\")\n",
    "    else:\n",
    "        print('Confusion matrix, without normalization')\n",
    "\n",
    "    print(cm)\n",
    "\n",
    "    plt.imshow(cm, interpolation='nearest', cmap=cmap)\n",
    "    plt.title(title)\n",
    "    plt.colorbar()\n",
    "    tick_marks = np.arange(len(classes))\n",
    "    plt.xticks(tick_marks, classes)\n",
    "    plt.yticks(tick_marks, classes, rotation=90)\n",
    "\n",
    "    fmt = '.2f' if normalize else 'd'\n",
    "    thresh = cm.max() / 2.\n",
    "    for i, j in itertools.product(range(cm.shape[0]), range(cm.shape[1])):\n",
    "        plt.text(j, i, format(cm[i, j], fmt),\n",
    "                 horizontalalignment=\"center\",\n",
    "                 color=\"white\" if cm[i, j] > thresh else \"black\")\n",
    "\n",
    "    plt.ylabel('True label')\n",
    "    plt.xlabel('Predicted label')\n",
    "\n",
    "cnf_matrix = confusion_matrix(y_test, y_pred)\n",
    "np.set_printoptions(precision=2)\n",
    "\n",
    "# Plot non-normalized confusion matrix\n",
    "plt.figure()\n",
    "class_names = [\"walking\", \"running\"]\n",
    "plot_confusion_matrix(cnf_matrix, classes=[\"walking\", \"running\"],\n",
    "                      title='Confusion matrix, without normalization')\n",
    "plt.figure()\n",
    "plot_confusion_matrix(cnf_matrix, classes=class_names, normalize=True,\n",
    "                      title='Normalized confusion matrix')\n",
    "plt.show()"
   ]
  }
 ],
 "metadata": {
  "kernelspec": {
   "display_name": "Python 2",
   "language": "python",
   "name": "python2"
  },
  "language_info": {
   "codemirror_mode": {
    "name": "ipython",
    "version": 2
   },
   "file_extension": ".py",
   "mimetype": "text/x-python",
   "name": "python",
   "nbconvert_exporter": "python",
   "pygments_lexer": "ipython2",
   "version": "2.7.13"
  }
 },
 "nbformat": 4,
 "nbformat_minor": 2
}
