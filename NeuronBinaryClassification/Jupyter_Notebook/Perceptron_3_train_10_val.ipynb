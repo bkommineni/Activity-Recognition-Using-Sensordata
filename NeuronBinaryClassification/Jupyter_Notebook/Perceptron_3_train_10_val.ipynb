{
 "cells": [
  {
   "cell_type": "code",
   "execution_count": 7,
   "metadata": {
    "collapsed": true
   },
   "outputs": [],
   "source": [
    "import pandas as pd\n",
    "from pandas import DataFrame,Series\n",
    "from matplotlib.colors import ListedColormap\n",
    "import numpy as np\n",
    "from sklearn.linear_model import Perceptron\n",
    "from sklearn.model_selection import train_test_split\n",
    "from sklearn.metrics import accuracy_score,confusion_matrix,classification_report\n",
    "import matplotlib.pyplot as plt\n",
    "from pandas.plotting import scatter_matrix\n",
    "from random import sample"
   ]
  },
  {
   "cell_type": "code",
   "execution_count": 8,
   "metadata": {},
   "outputs": [
    {
     "name": "stdout",
     "output_type": "stream",
     "text": [
      "('(#row,#column) of train dataset', (406, 46))\n",
      "('(#row,#column) of test dataset', (40, 46))\n"
     ]
    }
   ],
   "source": [
    "perceptron_dup_train = pd.read_csv('../FeaturesCsvFile/featuresfile.csv')\n",
    "perceptron_dup_test = pd.read_csv('../FeaturesCsvFile/featuresfile_10.csv')\n",
    "perceptron_train = perceptron_dup_train.drop_duplicates(subset=['User', 'Timestamp'])\n",
    "perceptron_unique_test = perceptron_dup_test.drop_duplicates(subset=['User', 'Timestamp'])\n",
    "\n",
    "perceptron_test = perceptron_unique_test.iloc[sample(range(len(perceptron_unique_test)), 40), :]\n",
    "\n",
    "print ('(#row,#column) of train dataset' , perceptron_train.shape)\n",
    "print ('(#row,#column) of test dataset' , perceptron_test.shape)"
   ]
  },
  {
   "cell_type": "code",
   "execution_count": 13,
   "metadata": {
    "collapsed": true
   },
   "outputs": [],
   "source": [
    "X_train = perceptron_train.values[:, 2:45]\n",
    "y_train = perceptron_train.values[:, 45]\n",
    "X_test = perceptron_test.values[:, 2:45]\n",
    "y_test = perceptron_test.values[:, 45]"
   ]
  },
  {
   "cell_type": "code",
   "execution_count": 16,
   "metadata": {
    "collapsed": true
   },
   "outputs": [],
   "source": [
    "ppn = Perceptron(max_iter=60, eta0=0.1, random_state=1)\n",
    "ppn.fit(X_train, y_train)\n",
    "y_pred = ppn.predict(X_test)"
   ]
  },
  {
   "cell_type": "code",
   "execution_count": 17,
   "metadata": {},
   "outputs": [
    {
     "name": "stdout",
     "output_type": "stream",
     "text": [
      "Accuracy of Accuracy Score : 0.90\n"
     ]
    }
   ],
   "source": [
    "print('Accuracy of Accuracy Score : %.2f' % accuracy_score(y_test,y_pred))"
   ]
  },
  {
   "cell_type": "code",
   "execution_count": 18,
   "metadata": {},
   "outputs": [
    {
     "name": "stdout",
     "output_type": "stream",
     "text": [
      "Accuracy of Perceptron Score: 0.90\n"
     ]
    }
   ],
   "source": [
    "print('Accuracy of Perceptron Score: %.2f' % ppn.score(X_test,y_test))"
   ]
  },
  {
   "cell_type": "code",
   "execution_count": 145,
   "metadata": {},
   "outputs": [
    {
     "name": "stdout",
     "output_type": "stream",
     "text": [
      "Important features (featureName, weigh of important, #column)\n",
      "('AvgAcc-y', 63.238555430296685, 39)\n",
      "('TimeDiffPeaks-z', 34.37562595112005, 34)\n",
      "('TimeDiffPeaks-y', 32.096648650960077, 33)\n",
      "('AvgAcc-x', 30.862084552577592, 38)\n",
      "('Bin6,x', 2.55751725920795, 7)\n",
      "('Bin10,y', 0.79616310410984481, 21)\n",
      "('Bin9,y', 0.77619459548402769, 20)\n",
      "('Bin5,x', 0.6808187075969786, 6)\n",
      "('Bin2,z', 0.48903571614583524, 23)\n",
      "('Bin9,z', 0.40163576695633663, 30)\n",
      "('Bin8,z', 0.3057784674259823, 29)\n",
      "('Bin8,y', 0.19532011544440228, 19)\n",
      "('Bin7,x', 0.12179294448553737, 8)\n",
      "('Bin1,z', -0.15521857947935661, 22)\n",
      "('Bin10,z', -0.15561003075881905, 31)\n",
      "('Bin1,x', -0.2819199399320706, 2)\n",
      "('Bin3,z', -0.43410015391842299, 24)\n",
      "('Bin1,y', -0.7155098821310184, 12)\n",
      "('Bin2,x', -1.3221235993863174, 3)\n",
      "('Bin5,y', -1.3637236812724065, 16)\n",
      "('Bin4,x', -1.3987556129778644, 5)\n",
      "('Bin7,y', -1.4560027520356247, 18)\n",
      "('Bin7,z', -1.6826383079090719, 28)\n",
      "('Bin10,x', -1.940744461639176, 11)\n",
      "('Bin4,y', -2.1043307055468947, 15)\n",
      "('Bin3,x', -2.3042008063580099, 4)\n",
      "('Bin2,y', -2.620409804467501, 13)\n",
      "('Bin6,y', -2.843169782155706, 17)\n",
      "('Bin4,z', -3.1022118977180768, 25)\n",
      "('Bin3,y', -3.1702845432670124, 14)\n",
      "('Bin8,x', -3.4043122109566326, 9)\n",
      "('Bin6,z', -3.6668815342306997, 27)\n",
      "('Bin5,z', -4.0805467819996517, 26)\n",
      "('Bin9,x', -4.3266024570847588, 10)\n",
      "('AvgResAcc', -8.4879389284761775, 44)\n",
      "('TimeDiffPeaks-x', -19.984695601010088, 32)\n",
      "('AvgAbsDiff-y', -97.974541109045717, 36)\n",
      "('AvgAbsDiff-z', -108.41343716636445, 37)\n",
      "('StdDev-y', -118.16051002428941, 42)\n",
      "('StdDev-z', -135.27768091321758, 43)\n",
      "('AvgAbsDiff-x', -135.79702244622243, 35)\n",
      "('AvgAcc-z', -148.4201769618833, 40)\n",
      "('StdDev-x', -157.3278056754659, 41)\n"
     ]
    }
   ],
   "source": [
    "print ('Important features (featureName, weigh of important, #column)')\n",
    "header = list(perceptron_train.head(1))\n",
    "important_feature = []\n",
    "for i in range(0,len(ppn.coef_[0])):\n",
    "    important_feature.append((header[i+2],ppn.coef_[0][i],i+2))\n",
    "sorted_list = sorted(important_feature,key=lambda important_feature: important_feature[1],reverse=True)\n",
    "for j in range(0,len(sorted_list)):\n",
    "        first_imp_fea = sorted_list[0]\n",
    "        second_imp_fea = sorted_list[1]\n",
    "        print sorted_list[j]"
   ]
  },
  {
   "cell_type": "code",
   "execution_count": 123,
   "metadata": {},
   "outputs": [
    {
     "name": "stderr",
     "output_type": "stream",
     "text": [
      "/usr/local/lib/python2.7/site-packages/ipykernel_launcher.py:1: SettingWithCopyWarning: \n",
      "A value is trying to be set on a copy of a slice from a DataFrame.\n",
      "Try using .loc[row_indexer,col_indexer] = value instead\n",
      "\n",
      "See the caveats in the documentation: http://pandas.pydata.org/pandas-docs/stable/indexing.html#indexing-view-versus-copy\n",
      "  \"\"\"Entry point for launching an IPython kernel.\n",
      "/usr/local/lib/python2.7/site-packages/ipykernel_launcher.py:3: SettingWithCopyWarning: \n",
      "A value is trying to be set on a copy of a slice from a DataFrame.\n",
      "Try using .loc[row_indexer,col_indexer] = value instead\n",
      "\n",
      "See the caveats in the documentation: http://pandas.pydata.org/pandas-docs/stable/indexing.html#indexing-view-versus-copy\n",
      "  This is separate from the ipykernel package so we can avoid doing imports until\n"
     ]
    }
   ],
   "source": [
    "perceptron_train['color'] = Series([(0 if x == \"walking\" else 1) for x in perceptron_train['Label']])\n",
    "my_color_map = ListedColormap(['skyblue','coral'],'mycolormap')\n",
    "perceptron_test['color'] = Series([(0 if x == \"walking\" else 1) for x in perceptron_test['Label']])"
   ]
  },
  {
   "cell_type": "code",
   "execution_count": 151,
   "metadata": {},
   "outputs": [
    {
     "data": {
      "image/png": "[encoded data removed]",
      "text/plain": [
       "<matplotlib.figure.Figure at 0x110da9c90>"
      ]
     },
     "metadata": {},
     "output_type": "display_data"
    }
   ],
   "source": [
    "y = perceptron_test.iloc[:, 45].values\n",
    "y = np.where(y == 'walking', -1, 1) \n",
    "X = perceptron_test.iloc[:, [38, 40]].values\n",
    "plt.scatter(X[:len(perceptron_test)/2, 0], X[:len(perceptron_test)/2, 1],\n",
    "           color='skyblue', marker='o', label='walking')\n",
    "plt.scatter(X[len(perceptron_test)/2:len(perceptron_test), 0], X[len(perceptron_test)/2:len(perceptron_test), 1],\n",
    "            color='coral', marker='x', label='running')\n",
    "\n",
    "plt.xlabel('%s'%first_imp_fea[0])\n",
    "plt.ylabel('%s'%second_imp_fea[0])\n",
    "plt.legend(loc='upper right')\n",
    "plt.tight_layout()\n",
    "plt.show()"
   ]
  },
  {
   "cell_type": "code",
   "execution_count": 184,
   "metadata": {
    "collapsed": true
   },
   "outputs": [],
   "source": [
    "#walking and running data points for training set(3 people data)\n",
    "plt.subplot(2,1,1)\n",
    "walk_points = perceptron_train.loc[perceptron_train['Label'] == 'walking']\n",
    "run_points = perceptron_train.loc[perceptron_train['Label'] == 'running']\n",
    "plt.scatter(walk_points['AvgAcc-x'],walk_points['AvgAcc-y'],color='skyblue'\n",
    "            ,marker='o',edgecolors=None)\n",
    "plt.scatter(run_points['AvgAcc-x'],run_points['AvgAcc-y'],color='coral'\n",
    "            ,marker='x',edgecolors=None)\n",
    "plt.title(\"(AvgAcc-x,AvgAcc-y)-3 people\")\n",
    "plt.legend(loc='upper right')\n",
    "\n",
    "#walking and running data points for test set(10 people data)\n",
    "plt.subplot(2,1,2)\n",
    "walk_points_test = perceptron_unique_test.loc[perceptron_unique_test['Label'] == 'walking']\n",
    "run_points_test = perceptron_unique_test.loc[perceptron_unique_test['Label'] == 'running']\n",
    "plt.scatter(walk_points_test['AvgAcc-x'],walk_points_test['AvgAcc-y'],color='skyblue'\n",
    "            ,marker='o',edgecolors=None)\n",
    "plt.scatter(run_points_test['AvgAcc-x'],run_points_test['AvgAcc-y'],color='coral'\n",
    "            ,marker='x',edgecolors=None)\n",
    "plt.title(\"(AvgAcc-x,AvgAcc-y)-10 people\")\n",
    "\n",
    "plt.subplots_adjust(hspace=0.5)\n",
    "# plt.show() \n",
    "plt.savefig('./image/scatter_pc_train_3_val_10.png',dpi=1000)"
   ]
  },
  {
   "cell_type": "code",
   "execution_count": 153,
   "metadata": {},
   "outputs": [
    {
     "data": {
      "text/plain": [
       "<matplotlib.figure.Figure at 0x110b077d0>"
      ]
     },
     "metadata": {},
     "output_type": "display_data"
    },
    {
     "data": {
      "image/png": "[encoded data removed]",
      "text/plain": [
       "<matplotlib.figure.Figure at 0x1118f4950>"
      ]
     },
     "metadata": {},
     "output_type": "display_data"
    }
   ],
   "source": [
    "frame = perceptron_test.loc[:,['AvgAcc-y','TimeDiffPeaks-y']]\n",
    "test=scatter_matrix(frame,color='g')\n",
    "plt.show()"
   ]
  },
  {
   "cell_type": "code",
   "execution_count": 163,
   "metadata": {},
   "outputs": [
    {
     "name": "stdout",
     "output_type": "stream",
     "text": [
      "Confusion matrix, without normalization\n",
      "[[ 9  3]\n",
      " [ 0 28]]\n",
      "Normalized confusion matrix\n",
      "[[ 0.75  0.25]\n",
      " [ 0.    1.  ]]\n"
     ]
    },
    {
     "data": {
      "image/png": "[encoded data removed]",
      "text/plain": [
       "<matplotlib.figure.Figure at 0x11171d090>"
      ]
     },
     "metadata": {},
     "output_type": "display_data"
    },
    {
     "data": {
      "image/png": "[encoded data removed]",
      "text/plain": [
       "<matplotlib.figure.Figure at 0x1114ee050>"
      ]
     },
     "metadata": {},
     "output_type": "display_data"
    }
   ],
   "source": [
    "import itertools\n",
    "import numpy as np\n",
    "import matplotlib.pyplot as plt\n",
    "\n",
    "def plot_confusion_matrix(cm, classes,\n",
    "                          normalize=False,\n",
    "                          title='Confusion matrix',\n",
    "                          cmap=plt.cm.OrRd):\n",
    "    \"\"\"\n",
    "    This function prints and plots the confusion matrix.\n",
    "    Normalization can be applied by setting `normalize=True`.\n",
    "    \"\"\"\n",
    "    if normalize:\n",
    "        cm = cm.astype('float') / cm.sum(axis=1)[:, np.newaxis]\n",
    "        print(\"Normalized confusion matrix\")\n",
    "    else:\n",
    "        print('Confusion matrix, without normalization')\n",
    "\n",
    "    print(cm)\n",
    "\n",
    "    plt.imshow(cm, interpolation='nearest', cmap=cmap)\n",
    "    plt.title(title)\n",
    "    plt.colorbar()\n",
    "    tick_marks = np.arange(len(classes))\n",
    "    plt.xticks(tick_marks, classes)\n",
    "    plt.yticks(tick_marks, classes, rotation=90)\n",
    "\n",
    "    fmt = '.2f' if normalize else 'd'\n",
    "    thresh = cm.max() / 2.\n",
    "    for i, j in itertools.product(range(cm.shape[0]), range(cm.shape[1])):\n",
    "        plt.text(j, i, format(cm[i, j], fmt),\n",
    "                 horizontalalignment=\"center\",\n",
    "                 color=\"white\" if cm[i, j] > thresh else \"black\")\n",
    "\n",
    "    plt.ylabel('True label')\n",
    "    plt.xlabel('Predicted label')\n",
    "\n",
    "cnf_matrix = confusion_matrix(y_test, y_pred)\n",
    "np.set_printoptions(precision=2)\n",
    "\n",
    "# Plot non-normalized confusion matrix\n",
    "plt.figure()\n",
    "class_names = [\"walking\", \"running\"]\n",
    "plot_confusion_matrix(cnf_matrix, classes=[\"walking\", \"running\"],\n",
    "                      title='Confusion matrix, without normalization')\n",
    "# plt.savefig('H:/mastersProject/activity_analyzer/LogisticRegression/cm_lr', dpi=1000)\n",
    "\n",
    "# Plot normalized confusion matrix\n",
    "plt.figure()\n",
    "plot_confusion_matrix(cnf_matrix, classes=class_names, normalize=True,\n",
    "                      title='Normalized confusion matrix')\n",
    "\n",
    "plt.savefig('./image/cm_pc_normalized', dpi=1000)\n",
    "plt.show()"
   ]
  },
  {
   "cell_type": "code",
   "execution_count": 31,
   "metadata": {},
   "outputs": [],
   "source": [
    "import numpy as np\n",
    "from sklearn import metrics\n",
    "import matplotlib.pyplot as plt\n",
    "\n",
    "\n",
    "def plot_roc_curve(Y_predict_gini,Y_test,name_graph):\n",
    "    num_predns = []\n",
    "    for i in range(0,len(Y_predict_gini)):\n",
    "        if Y_predict_gini[i] == \"walking\":\n",
    "            num_predns.append(0)\n",
    "        else:\n",
    "            num_predns.append(1)\n",
    "    num_labels = []\n",
    "    for i in range(0,len(Y_test)):\n",
    "        if Y_test[i] == \"walking\":\n",
    "            num_labels.append(0)\n",
    "        else:\n",
    "            num_labels.append(1)\n",
    "\n",
    "    predns = np.array(num_predns)\n",
    "    labels = np.array(num_labels)\n",
    "    fpr, tpr, thresholds = metrics.roc_curve(labels, predns)\n",
    "    roc_auc = metrics.auc(fpr, tpr)\n",
    "    plt.title('Area under ROC Curve')\n",
    "    plt.plot(fpr, tpr, 'orange', label = 'AUC = %0.2f' % roc_auc)\n",
    "    plt.legend(loc = 'lower right')\n",
    "    plt.plot([0, 1], [0, 1],'r--')\n",
    "    plt.xlim([0, 1])\n",
    "    plt.ylim([0, 1])\n",
    "    plt.ylabel('True Positive Rate')\n",
    "    plt.xlabel('False Positive Rate')\n",
    "    plt.savefig('./image/Area_under_roc_pc.png', dpi=1000)\n",
    "    \n",
    "plot_roc_curve(y_pred,y_test,\"Area_under_roc_pc\")"
   ]
  },
  {
   "cell_type": "code",
   "execution_count": null,
   "metadata": {
    "collapsed": true
   },
   "outputs": [],
   "source": []
  }
 ],
 "metadata": {
  "kernelspec": {
   "display_name": "Python 2",
   "language": "python",
   "name": "python2"
  },
  "language_info": {
   "codemirror_mode": {
    "name": "ipython",
    "version": 2
   },
   "file_extension": ".py",
   "mimetype": "text/x-python",
   "name": "python",
   "nbconvert_exporter": "python",
   "pygments_lexer": "ipython2",
   "version": "2.7.13"
  }
 },
 "nbformat": 4,
 "nbformat_minor": 2
}
