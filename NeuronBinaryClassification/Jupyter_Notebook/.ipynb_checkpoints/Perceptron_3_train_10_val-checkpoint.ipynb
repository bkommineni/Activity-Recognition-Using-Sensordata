{
 "cells": [
  {
   "cell_type": "code",
   "execution_count": 2,
   "metadata": {
    "collapsed": true
   },
   "outputs": [],
   "source": [
    "import pandas as pd\n",
    "import numpy as np\n",
    "from sklearn.linear_model import Perceptron\n",
    "from sklearn.model_selection import train_test_split\n",
    "from sklearn.metrics import accuracy_score,confusion_matrix,classification_report\n",
    "import matplotlib.pyplot as plt"
   ]
  },
  {
   "cell_type": "code",
   "execution_count": 3,
   "metadata": {},
   "outputs": [
    {
     "name": "stdout",
     "output_type": "stream",
     "text": [
      "('(#row,#column) of train dataset', (417, 46))\n",
      "('(#row,#column) of test dataset', (518, 46))\n"
     ]
    }
   ],
   "source": [
    "perceptron_train = pd.read_csv('../FeaturesCsvFile/featuresfile.csv')\n",
    "perceptron_test = pd.read_csv('../FeaturesCsvFile/featuresfile_10.csv')\n",
    "pd.options.display.max_columns = None\n",
    "\n",
    "print ('(#row,#column) of train dataset' , perceptron_train.shape)\n",
    "print ('(#row,#column) of test dataset' , perceptron_test.shape)"
   ]
  },
  {
   "cell_type": "code",
   "execution_count": 4,
   "metadata": {
    "collapsed": true
   },
   "outputs": [],
   "source": [
    "X_train = perceptron_train.values[:, 2:45]\n",
    "y_train = perceptron_train.values[:, 45]\n",
    "X_test = perceptron_test.values[:, 2:45]\n",
    "y_test = perceptron_test.values[:, 45]"
   ]
  },
  {
   "cell_type": "code",
   "execution_count": 5,
   "metadata": {
    "collapsed": true
   },
   "outputs": [],
   "source": [
    "ppn = Perceptron(max_iter=40, eta0=0.1, random_state=1)\n",
    "ppn.fit(X_train, y_train)\n",
    "y_pred = ppn.predict(X_test)"
   ]
  },
  {
   "cell_type": "code",
   "execution_count": 18,
   "metadata": {},
   "outputs": [
    {
     "name": "stdout",
     "output_type": "stream",
     "text": [
      "Accuracy of Accuracy Score : 0.87\n"
     ]
    }
   ],
   "source": [
    "print('Accuracy of Accuracy Score : %.2f' % accuracy_score(y_test,y_pred))"
   ]
  },
  {
   "cell_type": "code",
   "execution_count": 20,
   "metadata": {},
   "outputs": [
    {
     "name": "stdout",
     "output_type": "stream",
     "text": [
      "Accuracy of Perceptron Score: 0.87\n"
     ]
    }
   ],
   "source": [
    "print('Accuracy of Perceptron Score: %.2f' % ppn.score(X_test,y_test))"
   ]
  },
  {
   "cell_type": "code",
   "execution_count": 22,
   "metadata": {},
   "outputs": [
    {
     "name": "stdout",
     "output_type": "stream",
     "text": [
      "Confusion_matrix\n",
      "[[223  35]\n",
      " [ 30 230]]\n"
     ]
    }
   ],
   "source": [
    "print ('Confusion_matrix')\n",
    "print(confusion_matrix(y_test,y_pred))"
   ]
  },
  {
   "cell_type": "code",
   "execution_count": 40,
   "metadata": {},
   "outputs": [
    {
     "name": "stdout",
     "output_type": "stream",
     "text": [
      "Important features\n",
      "(1, 'Bin1,x', -0.16977406999783445)\n",
      "(2, 'Bin2,x', -1.0815646018321707)\n",
      "(3, 'Bin3,x', -1.9577867486305367)\n",
      "(4, 'Bin4,x', -1.2471331273463679)\n",
      "(5, 'Bin5,x', 0.70951008977900321)\n",
      "(6, 'Bin6,x', 1.9878066261171476)\n",
      "(7, 'Bin7,x', -0.36231032811537289)\n",
      "(8, 'Bin8,x', -3.3083674892647741)\n",
      "(9, 'Bin9,x', -3.9264839369849707)\n",
      "(10, 'Bin10,x', -1.6187632573087811)\n",
      "(11, 'Bin1,y', -0.65001384163550535)\n",
      "(12, 'Bin2,y', -2.3856139276609647)\n",
      "(13, 'Bin3,y', -2.7963128460973725)\n",
      "(14, 'Bin4,y', -1.9177902271955432)\n",
      "(15, 'Bin5,y', -1.1891795657443731)\n",
      "(16, 'Bin6,y', -2.5102637016192655)\n",
      "(17, 'Bin7,y', -1.4749954714119438)\n",
      "(18, 'Bin8,y', 0.030242959453366035)\n",
      "(19, 'Bin9,y', 0.58454906620862035)\n",
      "(20, 'Bin10,y', 0.65341690434481836)\n",
      "(21, 'Bin1,z', -0.22895117334842333)\n",
      "(22, 'Bin2,z', 0.28788337520672441)\n",
      "(23, 'Bin3,z', -0.068713642445832501)\n",
      "(24, 'Bin4,z', -2.5128236133892194)\n",
      "(25, 'Bin5,z', -3.3287458825988301)\n",
      "(26, 'Bin6,z', -3.3810402789615814)\n",
      "(27, 'Bin7,z', -1.5604533155591052)\n",
      "(28, 'Bin8,z', -0.061949601728730153)\n",
      "(29, 'Bin9,z', 0.043874196703566674)\n",
      "(30, 'Bin10,z', -0.34931389964077736)\n",
      "(31, 'TimeDiffPeaks-x', -36.366225442410069)\n",
      "(32, 'TimeDiffPeaks-y', 31.430106357990134)\n",
      "(33, 'TimeDiffPeaks-z', 38.452190066290193)\n",
      "(34, 'AvgAbsDiff-x', -123.62876679629939)\n",
      "(35, 'AvgAbsDiff-y', -90.099425396863538)\n",
      "(36, 'AvgAbsDiff-z', -101.82755326677866)\n",
      "(37, 'AvgAcc-x', 27.749521411401602)\n",
      "(38, 'AvgAcc-y', 56.016152201096546)\n",
      "(39, 'AvgAcc-z', -139.29304714169331)\n",
      "(40, 'StdDev-x', -143.60420869538123)\n",
      "(41, 'StdDev-y', -108.51305136343348)\n",
      "(42, 'StdDev-z', -126.95568127565883)\n",
      "(43, 'AvgResAcc', -8.023092921941064)\n"
     ]
    }
   ],
   "source": [
    "print ('Important features')\n",
    "header = list(perceptron_train.head(1))\n",
    "for i in range(0,len(ppn.coef_[0])):\n",
    "    print (i+1,header[i+2],ppn.coef_[0][i])"
   ]
  },
  {
   "cell_type": "code",
   "execution_count": 57,
   "metadata": {},
   "outputs": [
    {
     "data": {
      "image/png": "[encoded data removed]",
      "text/plain": [
       "<matplotlib.figure.Figure at 0x1133e4590>"
      ]
     },
     "metadata": {},
     "output_type": "display_data"
    }
   ],
   "source": [
    "#get data first 100 rows\n",
    "y = perceptron_test.iloc[0:100, 45].values\n",
    "y = np.where(y == 'walking', -1, 1)\n",
    "#use TimeDiffPeaks-y and TimeDiffPeaks-z \n",
    "X = perceptron_test.iloc[0:100, [32, 34]].values\n",
    "# plot data\n",
    "plt.scatter(X[:50, 0], X[:50, 1],\n",
    "           color='red', marker='o', label='walking')\n",
    "plt.scatter(X[50:100, 0], X[50:100, 1],\n",
    "           color='blue', marker='x', label='running')\n",
    "\n",
    "plt.xlabel('TimeDiffPeaks-y')\n",
    "plt.ylabel('TimeDiffPeaks-z')\n",
    "plt.legend(loc='upper left')\n",
    "plt.tight_layout()\n",
    "plt.show()"
   ]
  },
  {
   "cell_type": "code",
   "execution_count": 58,
   "metadata": {
    "scrolled": true
   },
   "outputs": [
    {
     "data": {
      "image/png": "[encoded data removed]",
      "text/plain": [
       "<matplotlib.figure.Figure at 0x113180310>"
      ]
     },
     "metadata": {},
     "output_type": "display_data"
    }
   ],
   "source": [
    "y = perceptron_test.iloc[0:100, 45].values\n",
    "y = np.where(y == 'walking', -1, 1)\n",
    "#use AvgAcc-x and AvgAcc-y\n",
    "X = perceptron_test.iloc[0:100, [37, 39]].values\n",
    "# plot data\n",
    "plt.scatter(X[:50, 0], X[:50, 1],\n",
    "           color='red', marker='o', label='walking')\n",
    "plt.scatter(X[50:100, 0], X[50:100, 1],\n",
    "           color='blue', marker='x', label='running')\n",
    "\n",
    "plt.xlabel('AvgAcc-x')\n",
    "plt.ylabel('AvgAcc-y')\n",
    "plt.legend(loc='upper left')\n",
    "plt.tight_layout()\n",
    "plt.show()"
   ]
  },
  {
   "cell_type": "code",
   "execution_count": 7,
   "metadata": {},
   "outputs": [
    {
     "data": {
      "image/png": "[encoded data removed]",
      "text/plain": [
       "<matplotlib.figure.Figure at 0x10873cc50>"
      ]
     },
     "metadata": {},
     "output_type": "display_data"
    }
   ],
   "source": [
    "y = perceptron_test.iloc[0:, 45].values\n",
    "y = np.where(y == 'walking', -1, 1)\n",
    "#use AvgAcc-x and AvgAcc-y\n",
    "X = perceptron_test.iloc[0:, [2,45]].values\n",
    "# plot data\n",
    "plt.scatter(X[:len(perceptron_test)/2, 0], X[:len(perceptron_test)/2, 1],\n",
    "           color='red', marker='o', label='walking')\n",
    "plt.scatter(X[len(perceptron_test)/2:len(perceptron_test), 0], X[len(perceptron_test)/2:len(perceptron_test), 1],\n",
    "           color='blue', marker='x', label='running')\n",
    "\n",
    "plt.legend(loc='upper left')\n",
    "plt.tight_layout()\n",
    "plt.show()"
   ]
  },
  {
   "cell_type": "code",
   "execution_count": null,
   "metadata": {
    "collapsed": true
   },
   "outputs": [],
   "source": []
  }
 ],
 "metadata": {
  "kernelspec": {
   "display_name": "Python 2",
   "language": "python",
   "name": "python2"
  },
  "language_info": {
   "codemirror_mode": {
    "name": "ipython",
    "version": 2
   },
   "file_extension": ".py",
   "mimetype": "text/x-python",
   "name": "python",
   "nbconvert_exporter": "python",
   "pygments_lexer": "ipython2",
   "version": "2.7.13"
  }
 },
 "nbformat": 4,
 "nbformat_minor": 2
}
