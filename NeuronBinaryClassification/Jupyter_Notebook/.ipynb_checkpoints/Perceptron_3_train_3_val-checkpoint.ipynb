{
 "cells": [
  {
   "cell_type": "code",
   "execution_count": 1,
   "metadata": {
    "collapsed": true
   },
   "outputs": [],
   "source": [
    "import pandas as pd\n",
    "import numpy as np\n",
    "from sklearn.linear_model import Perceptron\n",
    "from sklearn.model_selection import train_test_split\n",
    "from sklearn.metrics import accuracy_score,confusion_matrix,classification_report\n",
    "import matplotlib.pyplot as plt"
   ]
  },
  {
   "cell_type": "code",
   "execution_count": 56,
   "metadata": {},
   "outputs": [
    {
     "data": {
      "text/plain": [
       "(417, 46)"
      ]
     },
     "execution_count": 56,
     "metadata": {},
     "output_type": "execute_result"
    }
   ],
   "source": [
    "df = pd.read_csv('../FeaturesCsvFile/featuresfile.csv')\n",
    "df.shape"
   ]
  },
  {
   "cell_type": "code",
   "execution_count": 16,
   "metadata": {},
   "outputs": [],
   "source": [
    "X = df.values[:, 2:45]\n",
    "y = df.values[:, 45] #label : walking/runing\n",
    "y_plot = np.where(y == 'walking', -1, 1)\n",
    "X_train, X_test, y_train, y_test = train_test_split(X, y_plot, test_size=0.3)\n",
    "ppn = Perceptron(max_iter=40, eta0=0.1, random_state=1)\n",
    "ppn.fit(X_train, y_train)\n",
    "y_pred = ppn.predict(X_test)"
   ]
  },
  {
   "cell_type": "code",
   "execution_count": 17,
   "metadata": {},
   "outputs": [
    {
     "name": "stdout",
     "output_type": "stream",
     "text": [
      "Accuracy of Accuracy Score : 0.98\n"
     ]
    }
   ],
   "source": [
    "print('Accuracy of Accuracy Score : %.2f' % accuracy_score(y_test,y_pred))"
   ]
  },
  {
   "cell_type": "code",
   "execution_count": 18,
   "metadata": {},
   "outputs": [
    {
     "name": "stdout",
     "output_type": "stream",
     "text": [
      "Accuracy of Perceptron Score: 0.98\n"
     ]
    }
   ],
   "source": [
    "print('Accuracy of Perceptron Score: %.2f' % ppn.score(X_test,y_test))"
   ]
  },
  {
   "cell_type": "code",
   "execution_count": 19,
   "metadata": {},
   "outputs": [
    {
     "name": "stdout",
     "output_type": "stream",
     "text": [
      "Confusion_matrix\n",
      "[[71  1]\n",
      " [ 1 53]]\n"
     ]
    }
   ],
   "source": [
    "print ('Confusion_matrix')\n",
    "print(confusion_matrix(y_test,y_pred))"
   ]
  },
  {
   "cell_type": "code",
   "execution_count": 20,
   "metadata": {},
   "outputs": [
    {
     "name": "stdout",
     "output_type": "stream",
     "text": [
      "Important features\n",
      "(1, 'Bin1,x', 0.24709872018647222)\n",
      "(2, 'Bin2,x', 0.90639319829669329)\n",
      "(3, 'Bin3,x', 1.569215071314277)\n",
      "(4, 'Bin4,x', 0.87659842412923306)\n",
      "(5, 'Bin5,x', -0.71113074885140781)\n",
      "(6, 'Bin6,x', -1.6620896870166044)\n",
      "(7, 'Bin7,x', 0.18472626165352474)\n",
      "(8, 'Bin8,x', 3.1187938892078164)\n",
      "(9, 'Bin9,x', 3.3452381497143056)\n",
      "(10, 'Bin10,x', 1.3888095686454358)\n",
      "(11, 'Bin1,y', 0.57132153462569002)\n",
      "(12, 'Bin2,y', 2.2066329026069278)\n",
      "(13, 'Bin3,y', 2.5745691003965629)\n",
      "(14, 'Bin4,y', 1.7854557978072789)\n",
      "(15, 'Bin5,y', 1.9186120294028235)\n",
      "(16, 'Bin6,y', 2.0984350748453888)\n",
      "(17, 'Bin7,y', 1.048837686881108)\n",
      "(18, 'Bin8,y', -0.53506441244885794)\n",
      "(19, 'Bin9,y', -0.91675046488809231)\n",
      "(20, 'Bin10,y', -0.721703767208692)\n",
      "(21, 'Bin1,z', 0.1549625422581109)\n",
      "(22, 'Bin2,z', -0.33051928805275771)\n",
      "(23, 'Bin3,z', 0.22017900856118305)\n",
      "(24, 'Bin4,z', 2.306293060803692)\n",
      "(25, 'Bin5,z', 3.1043382088926923)\n",
      "(26, 'Bin6,z', 2.4935516646305436)\n",
      "(27, 'Bin7,z', 1.3698331156919306)\n",
      "(28, 'Bin8,z', -0.037041144265181403)\n",
      "(29, 'Bin9,z', -0.096127912347931721)\n",
      "(30, 'Bin10,z', 0.30932026826460979)\n",
      "(31, 'TimeDiffPeaks-x', 31.581449672500003)\n",
      "(32, 'TimeDiffPeaks-y', -24.085878239889958)\n",
      "(33, 'TimeDiffPeaks-z', -37.172866016200025)\n",
      "(34, 'AvgAbsDiff-x', 112.93846207906782)\n",
      "(35, 'AvgAbsDiff-y', 82.969349889883858)\n",
      "(36, 'AvgAbsDiff-z', 94.877565338729823)\n",
      "(37, 'AvgAcc-x', -20.489632786484197)\n",
      "(38, 'AvgAcc-y', -50.510837138510865)\n",
      "(39, 'AvgAcc-z', 118.01404728085981)\n",
      "(40, 'StdDev-x', 132.37990056954391)\n",
      "(41, 'StdDev-y', 100.41326445323827)\n",
      "(42, 'StdDev-z', 118.21791536124083)\n",
      "(43, 'AvgResAcc', 7.2770710888601462)\n"
     ]
    }
   ],
   "source": [
    "print ('Important features')\n",
    "header = list(df.head(1))\n",
    "for i in range(0,len(ppn.coef_[0])):\n",
    "    print (i+1,header[i+2],ppn.coef_[0][i])"
   ]
  },
  {
   "cell_type": "code",
   "execution_count": 22,
   "metadata": {},
   "outputs": [
    {
     "data": {
      "image/png": "[encoded data removed]",
      "text/plain": [
       "<matplotlib.figure.Figure at 0x10b290090>"
      ]
     },
     "metadata": {},
     "output_type": "display_data"
    }
   ],
   "source": [
    "#get data first 100 rows\n",
    "y = df.iloc[0:100, 45].values\n",
    "y = np.where(y == 'walking', -1, 1)\n",
    "#use AvgAbsDiff-x and AvgAbsDiff-y\n",
    "X = df.iloc[0:100, [34, 36]].values\n",
    "# plot data\n",
    "plt.scatter(X[:50, 0], X[:50, 1],\n",
    "           color='red', marker='o', label='walking')\n",
    "plt.scatter(X[50:100, 0], X[50:100, 1],\n",
    "           color='blue', marker='x', label='running')\n",
    "\n",
    "plt.xlabel('AvgAbsDiff-x')\n",
    "plt.ylabel('AvgAbsDiff-y')\n",
    "plt.legend(loc='upper left')\n",
    "plt.tight_layout()\n",
    "plt.show()"
   ]
  },
  {
   "cell_type": "code",
   "execution_count": 42,
   "metadata": {},
   "outputs": [
    {
     "data": {
      "image/png": "[encoded data removed]",
      "text/plain": [
       "<matplotlib.figure.Figure at 0x10b4f9f50>"
      ]
     },
     "metadata": {},
     "output_type": "display_data"
    }
   ],
   "source": [
    "#get data first 100 rows\n",
    "y = df.iloc[0:100, 45].values\n",
    "y = np.where(y == 'walking', -1, 1)\n",
    "#use AvgAcc-z and StdDev-x\n",
    "X = df.iloc[0:100, [39, 41]].values\n",
    "# plot data\n",
    "plt.scatter(X[:50, 0], X[:50, 1],\n",
    "           color='red', marker='o', label='walking')\n",
    "plt.scatter(X[50:100, 0], X[50:100, 1],\n",
    "           color='blue', marker='x', label='running')\n",
    "\n",
    "plt.xlabel('AvgAcc-z')\n",
    "plt.ylabel('StdDev-x')\n",
    "plt.legend(loc='upper left')\n",
    "plt.tight_layout()\n",
    "plt.show()"
   ]
  },
  {
   "cell_type": "code",
   "execution_count": 62,
   "metadata": {},
   "outputs": [
    {
     "data": {
      "image/png": "[encoded data removed]",
      "text/plain": [
       "<matplotlib.figure.Figure at 0x10c4e6a90>"
      ]
     },
     "metadata": {},
     "output_type": "display_data"
    }
   ],
   "source": [
    "y = df.iloc[:len(df), 45].values\n",
    "y = np.where(y == 'walking', -1, 1)\n",
    "#use \n",
    "X = df.iloc[:len(df), [2,45]].values\n",
    "# plot data\n",
    "plt.scatter(X[:len(df)/2, 0], X[:len(df)/2, 1],\n",
    "           color='red', marker='o', label='walking')\n",
    "plt.scatter(X[len(df)/2:len(df), 0], X[len(df)/2:len(df), 1],\n",
    "           color='blue', marker='x', label='running')\n",
    "\n",
    "plt.legend(loc='upper left')\n",
    "plt.tight_layout()\n",
    "plt.show()"
   ]
  }
 ],
 "metadata": {
  "kernelspec": {
   "display_name": "Python 2",
   "language": "python",
   "name": "python2"
  },
  "language_info": {
   "codemirror_mode": {
    "name": "ipython",
    "version": 2
   },
   "file_extension": ".py",
   "mimetype": "text/x-python",
   "name": "python",
   "nbconvert_exporter": "python",
   "pygments_lexer": "ipython2",
   "version": "2.7.13"
  }
 },
 "nbformat": 4,
 "nbformat_minor": 2
}
