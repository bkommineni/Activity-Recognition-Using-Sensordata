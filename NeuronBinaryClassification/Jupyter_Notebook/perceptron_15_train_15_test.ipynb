{
 "cells": [
  {
   "cell_type": "code",
   "execution_count": 1,
   "metadata": {
    "collapsed": true
   },
   "outputs": [],
   "source": [
    "import pandas as pd\n",
    "from pandas import DataFrame,Series\n",
    "from matplotlib.colors import ListedColormap\n",
    "import numpy as np\n",
    "from sklearn.linear_model import Perceptron\n",
    "from sklearn.model_selection import train_test_split\n",
    "from sklearn.metrics import accuracy_score,confusion_matrix,classification_report\n",
    "import matplotlib.pyplot as plt\n",
    "from pandas.plotting import scatter_matrix\n",
    "from random import sample"
   ]
  },
  {
   "cell_type": "code",
   "execution_count": 11,
   "metadata": {},
   "outputs": [
    {
     "data": {
      "text/plain": [
       "(821, 46)"
      ]
     },
     "execution_count": 11,
     "metadata": {},
     "output_type": "execute_result"
    }
   ],
   "source": [
    "perceptron_dup_train = pd.read_csv('../FeaturesCsvFile/featuresfile.csv')\n",
    "perceptron_dup_test = pd.read_csv('../FeaturesCsvFile/featuresfile_10.csv')\n",
    "df1 = perceptron_dup_test.drop_duplicates(subset=['User', 'Timestamp'])\n",
    "df2 = perceptron_dup_train.drop_duplicates(subset=['User', 'Timestamp'])\n",
    "frames = [df1, df2]\n",
    "df= pd.concat(frames)\n",
    "df.shape"
   ]
  },
  {
   "cell_type": "code",
   "execution_count": 30,
   "metadata": {},
   "outputs": [
    {
     "name": "stdout",
     "output_type": "stream",
     "text": [
      "Accuracy of Accuracy Score : 0.97\n",
      "Accuracy of Perceptron Score: 0.97\n"
     ]
    }
   ],
   "source": [
    "X = df.values[:, 2:45]\n",
    "y = df.values[:, 45] #label : walking/runing\n",
    "y_plot = np.where(y == 'walking', -1, 1)\n",
    "X_train, X_test, y_train, y_test = train_test_split(X, y_plot, test_size=0.3)\n",
    "ppn = Perceptron(max_iter=30, eta0=0.1, random_state=1)\n",
    "ppn.fit(X_train, y_train)\n",
    "y_pred = ppn.predict(X_test)\n",
    "print('Accuracy of Accuracy Score : %.2f' % accuracy_score(y_test,y_pred))\n",
    "print('Accuracy of Perceptron Score: %.2f' % ppn.score(X_test,y_test))"
   ]
  },
  {
   "cell_type": "code",
   "execution_count": 32,
   "metadata": {},
   "outputs": [
    {
     "name": "stdout",
     "output_type": "stream",
     "text": [
      "Important features (featureName, weigh of important, #column)\n",
      "('StdDev-z', 185.56889493405149, 43)\n",
      "('StdDev-x', 161.12133478561577, 41)\n",
      "('AvgAbsDiff-z', 153.27951262524317, 37)\n",
      "('AvgAbsDiff-x', 137.07187728764572, 35)\n",
      "('StdDev-y', 122.48673837800487, 42)\n",
      "('AvgAbsDiff-y', 103.3940272084579, 36)\n",
      "('AvgAcc-z', 36.397275816041891, 40)\n",
      "('TimeDiffPeaks-x', 27.093988187359958, 32)\n",
      "('Bin9,x', 3.348462884840623, 10)\n",
      "('Bin3,y', 2.9102979662311594, 14)\n",
      "('Bin4,y', 2.806936584433942, 15)\n",
      "('Bin2,y', 2.2745223274530582, 13)\n",
      "('Bin8,x', 1.7814050239832402, 9)\n",
      "('Bin10,x', 1.747888333070434, 11)\n",
      "('Bin3,z', 1.3464187537191366, 24)\n",
      "('Bin4,x', 1.1402270081585009, 5)\n",
      "('Bin2,z', 0.96243999131523816, 23)\n",
      "('Bin1,z', 0.77752172622129445, 22)\n",
      "('Bin3,x', 0.77710967143979981, 4)\n",
      "('Bin2,x', 0.76818537528154518, 3)\n",
      "('Bin1,y', 0.65102736672288364, 12)\n",
      "('Bin7,z', 0.53394073372101136, 28)\n",
      "('Bin6,y', 0.40985893992920736, 17)\n",
      "('Bin1,x', 0.25539929456708249, 2)\n",
      "('Bin10,z', 0.16029718184240796, 31)\n",
      "('Bin4,z', 0.067177333233303327, 25)\n",
      "('Bin5,z', -0.20577150927891691, 26)\n",
      "('Bin9,z', -0.41511736040235897, 30)\n",
      "('Bin6,z', -0.42384507436062185, 27)\n",
      "('Bin7,y', -0.56988161651232472, 18)\n",
      "('Bin8,z', -0.57194721825808781, 29)\n",
      "('Bin5,y', -0.82640650469522192, 16)\n",
      "('Bin8,y', -0.92967877364383611, 19)\n",
      "('Bin10,y', -1.6151407412936372, 21)\n",
      "('Bin5,x', -1.9839609799887523, 6)\n",
      "('Bin9,y', -2.1378126300767399, 20)\n",
      "('Bin7,x', -2.7485174223217528, 8)\n",
      "('Bin6,x', -3.4912208937367009, 7)\n",
      "('AvgAcc-x', -11.595957569237354, 38)\n",
      "('AvgResAcc', -21.530061914756175, 44)\n",
      "('TimeDiffPeaks-y', -26.653666599639994, 33)\n",
      "('TimeDiffPeaks-z', -30.413344757570119, 34)\n",
      "('AvgAcc-y', -32.148856229778566, 39)\n"
     ]
    }
   ],
   "source": [
    "print ('Important features (featureName, weigh of important, #column)')\n",
    "header = list(perceptron_train.head(1))\n",
    "important_feature = []\n",
    "for i in range(0,len(ppn.coef_[0])):\n",
    "    important_feature.append((header[i+2],ppn.coef_[0][i],i+2))\n",
    "sorted_list = sorted(important_feature,key=lambda important_feature: important_feature[1],reverse=True)\n",
    "for j in range(0,len(sorted_list)):\n",
    "        first_imp_fea = sorted_list[0]\n",
    "        second_imp_fea = sorted_list[1]\n",
    "        print sorted_list[j]"
   ]
  },
  {
   "cell_type": "code",
   "execution_count": 34,
   "metadata": {},
   "outputs": [
    {
     "name": "stdout",
     "output_type": "stream",
     "text": [
      "Normalized confusion matrix\n",
      "[[ 0.99  0.01]\n",
      " [ 0.06  0.94]]\n"
     ]
    },
    {
     "data": {
      "image/png": "[encoded data removed]",
      "text/plain": [
       "<matplotlib.figure.Figure at 0x1136e6d90>"
      ]
     },
     "metadata": {},
     "output_type": "display_data"
    }
   ],
   "source": [
    "import itertools\n",
    "import numpy as np\n",
    "import matplotlib.pyplot as plt\n",
    "\n",
    "def plot_confusion_matrix(cm, classes,\n",
    "                          normalize=False,\n",
    "                          title='Confusion matrix',\n",
    "                          cmap=plt.cm.OrRd):\n",
    "    \"\"\"\n",
    "    This function prints and plots the confusion matrix.\n",
    "    Normalization can be applied by setting `normalize=True`.\n",
    "    \"\"\"\n",
    "    if normalize:\n",
    "        cm = cm.astype('float') / cm.sum(axis=1)[:, np.newaxis]\n",
    "        print(\"Normalized confusion matrix\")\n",
    "    else:\n",
    "        print('Confusion matrix, without normalization')\n",
    "\n",
    "    print(cm)\n",
    "\n",
    "    plt.imshow(cm, interpolation='nearest', cmap=cmap)\n",
    "    plt.title(title)\n",
    "    plt.colorbar()\n",
    "    tick_marks = np.arange(len(classes))\n",
    "    plt.xticks(tick_marks, classes)\n",
    "    plt.yticks(tick_marks, classes, rotation=90)\n",
    "\n",
    "    fmt = '.2f' if normalize else 'd'\n",
    "    thresh = cm.max() / 2.\n",
    "    for i, j in itertools.product(range(cm.shape[0]), range(cm.shape[1])):\n",
    "        plt.text(j, i, format(cm[i, j], fmt),\n",
    "                 horizontalalignment=\"center\",\n",
    "                 color=\"white\" if cm[i, j] > thresh else \"black\")\n",
    "\n",
    "    plt.ylabel('True label')\n",
    "    plt.xlabel('Predicted label')\n",
    "\n",
    "cnf_matrix = confusion_matrix(y_test, y_pred)\n",
    "np.set_printoptions(precision=2)\n",
    "\n",
    "# Plot non-normalized confusion matrix\n",
    "plt.figure()\n",
    "class_names = [\"walking\", \"running\"]\n",
    "# plot_confusion_matrix(cnf_matrix, classes=[\"walking\", \"running\"],\n",
    "#                       title='Confusion matrix, without normalization')\n",
    "# plt.figure()\n",
    "plot_confusion_matrix(cnf_matrix, classes=class_names, normalize=True,\n",
    "                      title='Normalized confusion matrix')\n",
    "plt.show()"
   ]
  }
 ],
 "metadata": {
  "kernelspec": {
   "display_name": "Python 2",
   "language": "python",
   "name": "python2"
  },
  "language_info": {
   "codemirror_mode": {
    "name": "ipython",
    "version": 2
   },
   "file_extension": ".py",
   "mimetype": "text/x-python",
   "name": "python",
   "nbconvert_exporter": "python",
   "pygments_lexer": "ipython2",
   "version": "2.7.13"
  }
 },
 "nbformat": 4,
 "nbformat_minor": 2
}
