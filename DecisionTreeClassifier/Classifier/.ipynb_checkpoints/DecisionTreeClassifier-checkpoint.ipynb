{
 "cells": [
  {
   "cell_type": "code",
   "execution_count": 61,
   "metadata": {
    "collapsed": true
   },
   "outputs": [],
   "source": [
    "from pathlib import Path\n",
    "from sklearn.model_selection import train_test_split\n",
    "from sklearn import tree\n",
    "from sklearn.tree import DecisionTreeClassifier\n",
    "from sklearn.metrics import accuracy_score\n",
    "import pandas as pd\n",
    "from sklearn.metrics import confusion_matrix"
   ]
  },
  {
   "cell_type": "code",
   "execution_count": 17,
   "metadata": {},
   "outputs": [
    {
     "data": {
      "text/html": [
       "<div>\n",
       "<style>\n",
       "    .dataframe thead tr:only-child th {\n",
       "        text-align: right;\n",
       "    }\n",
       "\n",
       "    .dataframe thead th {\n",
       "        text-align: left;\n",
       "    }\n",
       "\n",
       "    .dataframe tbody tr th {\n",
       "        vertical-align: top;\n",
       "    }\n",
       "</style>\n",
       "<table border=\"1\" class=\"dataframe\">\n",
       "  <thead>\n",
       "    <tr style=\"text-align: right;\">\n",
       "      <th></th>\n",
       "      <th>User</th>\n",
       "      <th>Bin1,x</th>\n",
       "      <th>Bin2,x</th>\n",
       "      <th>Bin3,x</th>\n",
       "      <th>Bin4,x</th>\n",
       "      <th>Bin5,x</th>\n",
       "      <th>Bin6,x</th>\n",
       "      <th>Bin7,x</th>\n",
       "      <th>Bin8,x</th>\n",
       "      <th>Bin9,x</th>\n",
       "      <th>...</th>\n",
       "      <th>AvgAbsDiff-y</th>\n",
       "      <th>AvgAbsDiff-z</th>\n",
       "      <th>AvgAcc-x</th>\n",
       "      <th>AvgAcc-y</th>\n",
       "      <th>AvgAcc-z</th>\n",
       "      <th>StdDev-x</th>\n",
       "      <th>StdDev-y</th>\n",
       "      <th>StdDev-z</th>\n",
       "      <th>AvgResAcc</th>\n",
       "      <th>Label</th>\n",
       "    </tr>\n",
       "  </thead>\n",
       "  <tbody>\n",
       "    <tr>\n",
       "      <th>0</th>\n",
       "      <td>Bhargavi</td>\n",
       "      <td>0.014085</td>\n",
       "      <td>0.018109</td>\n",
       "      <td>0.022133</td>\n",
       "      <td>0.062374</td>\n",
       "      <td>0.197183</td>\n",
       "      <td>0.283702</td>\n",
       "      <td>0.167002</td>\n",
       "      <td>0.112676</td>\n",
       "      <td>0.056338</td>\n",
       "      <td>...</td>\n",
       "      <td>0.706879</td>\n",
       "      <td>1.368683</td>\n",
       "      <td>0.172889</td>\n",
       "      <td>1.309198</td>\n",
       "      <td>9.354637</td>\n",
       "      <td>0.446622</td>\n",
       "      <td>0.855555</td>\n",
       "      <td>1.560657</td>\n",
       "      <td>0.472090</td>\n",
       "      <td>walking</td>\n",
       "    </tr>\n",
       "    <tr>\n",
       "      <th>1</th>\n",
       "      <td>Bhargavi</td>\n",
       "      <td>0.003597</td>\n",
       "      <td>0.012590</td>\n",
       "      <td>0.023381</td>\n",
       "      <td>0.048561</td>\n",
       "      <td>0.097122</td>\n",
       "      <td>0.224820</td>\n",
       "      <td>0.258993</td>\n",
       "      <td>0.181655</td>\n",
       "      <td>0.098921</td>\n",
       "      <td>...</td>\n",
       "      <td>0.607448</td>\n",
       "      <td>1.393734</td>\n",
       "      <td>-0.094222</td>\n",
       "      <td>0.971846</td>\n",
       "      <td>9.412232</td>\n",
       "      <td>0.438568</td>\n",
       "      <td>0.722373</td>\n",
       "      <td>1.579282</td>\n",
       "      <td>0.528508</td>\n",
       "      <td>walking</td>\n",
       "    </tr>\n",
       "    <tr>\n",
       "      <th>2</th>\n",
       "      <td>Bhargavi</td>\n",
       "      <td>0.018349</td>\n",
       "      <td>0.029358</td>\n",
       "      <td>0.082569</td>\n",
       "      <td>0.155963</td>\n",
       "      <td>0.234862</td>\n",
       "      <td>0.220183</td>\n",
       "      <td>0.113761</td>\n",
       "      <td>0.075229</td>\n",
       "      <td>0.047706</td>\n",
       "      <td>...</td>\n",
       "      <td>0.618102</td>\n",
       "      <td>1.488376</td>\n",
       "      <td>0.009069</td>\n",
       "      <td>1.153406</td>\n",
       "      <td>9.402436</td>\n",
       "      <td>0.440231</td>\n",
       "      <td>0.754276</td>\n",
       "      <td>1.682175</td>\n",
       "      <td>0.518711</td>\n",
       "      <td>walking</td>\n",
       "    </tr>\n",
       "    <tr>\n",
       "      <th>3</th>\n",
       "      <td>Bhargavi</td>\n",
       "      <td>0.003810</td>\n",
       "      <td>0.009524</td>\n",
       "      <td>0.001905</td>\n",
       "      <td>0.009524</td>\n",
       "      <td>0.045714</td>\n",
       "      <td>0.211429</td>\n",
       "      <td>0.339048</td>\n",
       "      <td>0.257143</td>\n",
       "      <td>0.091429</td>\n",
       "      <td>...</td>\n",
       "      <td>0.538423</td>\n",
       "      <td>1.280605</td>\n",
       "      <td>-0.049911</td>\n",
       "      <td>1.177769</td>\n",
       "      <td>9.418344</td>\n",
       "      <td>0.438225</td>\n",
       "      <td>0.645937</td>\n",
       "      <td>1.445476</td>\n",
       "      <td>0.500173</td>\n",
       "      <td>walking</td>\n",
       "    </tr>\n",
       "    <tr>\n",
       "      <th>4</th>\n",
       "      <td>Bhargavi</td>\n",
       "      <td>0.010989</td>\n",
       "      <td>0.027473</td>\n",
       "      <td>0.084249</td>\n",
       "      <td>0.104396</td>\n",
       "      <td>0.216117</td>\n",
       "      <td>0.236264</td>\n",
       "      <td>0.177656</td>\n",
       "      <td>0.084249</td>\n",
       "      <td>0.043956</td>\n",
       "      <td>...</td>\n",
       "      <td>0.564663</td>\n",
       "      <td>1.231150</td>\n",
       "      <td>-0.050326</td>\n",
       "      <td>1.218036</td>\n",
       "      <td>9.434501</td>\n",
       "      <td>0.367049</td>\n",
       "      <td>0.681928</td>\n",
       "      <td>1.377831</td>\n",
       "      <td>0.521303</td>\n",
       "      <td>walking</td>\n",
       "    </tr>\n",
       "  </tbody>\n",
       "</table>\n",
       "<p>5 rows × 45 columns</p>\n",
       "</div>"
      ],
      "text/plain": [
       "       User    Bin1,x    Bin2,x    Bin3,x    Bin4,x    Bin5,x    Bin6,x  \\\n",
       "0  Bhargavi  0.014085  0.018109  0.022133  0.062374  0.197183  0.283702   \n",
       "1  Bhargavi  0.003597  0.012590  0.023381  0.048561  0.097122  0.224820   \n",
       "2  Bhargavi  0.018349  0.029358  0.082569  0.155963  0.234862  0.220183   \n",
       "3  Bhargavi  0.003810  0.009524  0.001905  0.009524  0.045714  0.211429   \n",
       "4  Bhargavi  0.010989  0.027473  0.084249  0.104396  0.216117  0.236264   \n",
       "\n",
       "     Bin7,x    Bin8,x    Bin9,x   ...     AvgAbsDiff-y  AvgAbsDiff-z  \\\n",
       "0  0.167002  0.112676  0.056338   ...         0.706879      1.368683   \n",
       "1  0.258993  0.181655  0.098921   ...         0.607448      1.393734   \n",
       "2  0.113761  0.075229  0.047706   ...         0.618102      1.488376   \n",
       "3  0.339048  0.257143  0.091429   ...         0.538423      1.280605   \n",
       "4  0.177656  0.084249  0.043956   ...         0.564663      1.231150   \n",
       "\n",
       "   AvgAcc-x  AvgAcc-y  AvgAcc-z  StdDev-x  StdDev-y  StdDev-z  AvgResAcc  \\\n",
       "0  0.172889  1.309198  9.354637  0.446622  0.855555  1.560657   0.472090   \n",
       "1 -0.094222  0.971846  9.412232  0.438568  0.722373  1.579282   0.528508   \n",
       "2  0.009069  1.153406  9.402436  0.440231  0.754276  1.682175   0.518711   \n",
       "3 -0.049911  1.177769  9.418344  0.438225  0.645937  1.445476   0.500173   \n",
       "4 -0.050326  1.218036  9.434501  0.367049  0.681928  1.377831   0.521303   \n",
       "\n",
       "     Label  \n",
       "0  walking  \n",
       "1  walking  \n",
       "2  walking  \n",
       "3  walking  \n",
       "4  walking  \n",
       "\n",
       "[5 rows x 45 columns]"
      ]
     },
     "execution_count": 17,
     "metadata": {},
     "output_type": "execute_result"
    }
   ],
   "source": [
    "my_file = Path(\"/Users/bharu/CS690-PROJECTS/ActivityAnalyzer/activity_analyzer/DecisionTreeClassifier/FeaturesCsvFile/featuresfile.csv\")\n",
    "df = pd.read_csv(my_file)\n",
    "df.head()"
   ]
  },
  {
   "cell_type": "code",
   "execution_count": 64,
   "metadata": {},
   "outputs": [],
   "source": [
    "X = df.loc[:,['TimeDiffPeaks-z','AvgAbsDiff-y']].values"
   ]
  },
  {
   "cell_type": "code",
   "execution_count": 49,
   "metadata": {
    "collapsed": true
   },
   "outputs": [],
   "source": [
    "Y = df.values[:,44]"
   ]
  },
  {
   "cell_type": "code",
   "execution_count": 50,
   "metadata": {},
   "outputs": [],
   "source": [
    "X_train,X_test,Y_train,Y_test = train_test_split(X,Y,test_size=0.3)"
   ]
  },
  {
   "cell_type": "code",
   "execution_count": 51,
   "metadata": {},
   "outputs": [
    {
     "data": {
      "text/plain": [
       "291"
      ]
     },
     "execution_count": 51,
     "metadata": {},
     "output_type": "execute_result"
    }
   ],
   "source": [
    "len(X_train)"
   ]
  },
  {
   "cell_type": "code",
   "execution_count": 52,
   "metadata": {},
   "outputs": [
    {
     "data": {
      "text/plain": [
       "126"
      ]
     },
     "execution_count": 52,
     "metadata": {},
     "output_type": "execute_result"
    }
   ],
   "source": [
    "len(X_test)"
   ]
  },
  {
   "cell_type": "code",
   "execution_count": 53,
   "metadata": {
    "collapsed": true
   },
   "outputs": [],
   "source": [
    "df_gini = DecisionTreeClassifier(criterion = 'gini')"
   ]
  },
  {
   "cell_type": "code",
   "execution_count": 54,
   "metadata": {
    "scrolled": true
   },
   "outputs": [
    {
     "data": {
      "text/plain": [
       "DecisionTreeClassifier(class_weight=None, criterion='gini', max_depth=None,\n",
       "            max_features=None, max_leaf_nodes=None,\n",
       "            min_impurity_decrease=0.0, min_impurity_split=None,\n",
       "            min_samples_leaf=1, min_samples_split=2,\n",
       "            min_weight_fraction_leaf=0.0, presort=False, random_state=None,\n",
       "            splitter='best')"
      ]
     },
     "execution_count": 54,
     "metadata": {},
     "output_type": "execute_result"
    }
   ],
   "source": [
    "df_gini.fit(X_train, Y_train)"
   ]
  },
  {
   "cell_type": "code",
   "execution_count": 56,
   "metadata": {},
   "outputs": [
    {
     "data": {
      "text/plain": [
       "array([ 0.19053239,  0.80946761])"
      ]
     },
     "execution_count": 56,
     "metadata": {},
     "output_type": "execute_result"
    }
   ],
   "source": [
    "df_gini.feature_importances_"
   ]
  },
  {
   "cell_type": "code",
   "execution_count": 58,
   "metadata": {},
   "outputs": [
    {
     "data": {
      "text/plain": [
       "array(['walking', 'walking', 'running', 'walking', 'walking', 'walking',\n",
       "       'running', 'walking', 'running', 'walking', 'walking', 'walking',\n",
       "       'walking', 'running', 'running', 'walking', 'walking', 'walking',\n",
       "       'walking', 'running', 'running', 'running', 'running', 'running',\n",
       "       'running', 'walking', 'walking', 'running', 'walking', 'walking',\n",
       "       'walking', 'running', 'running', 'walking', 'walking', 'walking',\n",
       "       'walking', 'walking', 'running', 'walking', 'walking', 'running',\n",
       "       'walking', 'running', 'walking', 'walking', 'walking', 'walking',\n",
       "       'walking', 'walking', 'running', 'running', 'running', 'walking',\n",
       "       'walking', 'walking', 'running', 'running', 'running', 'walking',\n",
       "       'running', 'running', 'running', 'walking', 'walking', 'walking',\n",
       "       'walking', 'running', 'walking', 'running', 'running', 'walking',\n",
       "       'running', 'walking', 'running', 'walking', 'walking', 'walking',\n",
       "       'walking', 'walking', 'running', 'walking', 'walking', 'running',\n",
       "       'running', 'running', 'running', 'running', 'walking', 'walking',\n",
       "       'walking', 'walking', 'walking', 'running', 'running', 'running',\n",
       "       'running', 'running', 'walking', 'walking', 'walking', 'running',\n",
       "       'running', 'walking', 'walking', 'walking', 'running', 'running',\n",
       "       'running', 'walking', 'walking', 'walking', 'running', 'walking',\n",
       "       'running', 'walking', 'walking', 'walking', 'running', 'walking',\n",
       "       'running', 'running', 'running', 'walking', 'walking', 'walking'], dtype=object)"
      ]
     },
     "execution_count": 58,
     "metadata": {},
     "output_type": "execute_result"
    }
   ],
   "source": [
    "Y_predict_gini = df_gini.predict(X_test)\n",
    "Y_predict_gini"
   ]
  },
  {
   "cell_type": "code",
   "execution_count": 60,
   "metadata": {},
   "outputs": [
    {
     "data": {
      "text/plain": [
       "0.97619047619047616"
      ]
     },
     "execution_count": 60,
     "metadata": {},
     "output_type": "execute_result"
    }
   ],
   "source": [
    "score = accuracy_score(Y_test,Y_predict_gini)\n",
    "score"
   ]
  },
  {
   "cell_type": "code",
   "execution_count": 63,
   "metadata": {},
   "outputs": [
    {
     "data": {
      "text/plain": [
       "array([[51,  1],\n",
       "       [ 2, 72]])"
      ]
     },
     "execution_count": 63,
     "metadata": {},
     "output_type": "execute_result"
    }
   ],
   "source": [
    "cm = confusion_matrix(Y_test,Y_predict_gini)\n",
    "cm"
   ]
  },
  {
   "cell_type": "code",
   "execution_count": 67,
   "metadata": {
    "collapsed": true
   },
   "outputs": [],
   "source": [
    "tree.export_graphviz(df_gini,feature_names=df.columns.values[1:44],out_file='tree_gini.dot')"
   ]
  },
  {
   "cell_type": "code",
   "execution_count": 72,
   "metadata": {
    "collapsed": true
   },
   "outputs": [],
   "source": [
    "df_entropy = DecisionTreeClassifier(criterion = 'entropy')"
   ]
  },
  {
   "cell_type": "code",
   "execution_count": 73,
   "metadata": {},
   "outputs": [
    {
     "data": {
      "text/plain": [
       "DecisionTreeClassifier(class_weight=None, criterion='entropy', max_depth=None,\n",
       "            max_features=None, max_leaf_nodes=None,\n",
       "            min_impurity_decrease=0.0, min_impurity_split=None,\n",
       "            min_samples_leaf=1, min_samples_split=2,\n",
       "            min_weight_fraction_leaf=0.0, presort=False, random_state=None,\n",
       "            splitter='best')"
      ]
     },
     "execution_count": 73,
     "metadata": {},
     "output_type": "execute_result"
    }
   ],
   "source": [
    "df_entropy.fit(X_train,Y_train)"
   ]
  },
  {
   "cell_type": "code",
   "execution_count": 74,
   "metadata": {},
   "outputs": [
    {
     "data": {
      "text/plain": [
       "array([ 0.        ,  0.        ,  0.        ,  0.        ,  0.        ,\n",
       "        0.        ,  0.        ,  0.        ,  0.        ,  0.        ,\n",
       "        0.        ,  0.        ,  0.        ,  0.        ,  0.        ,\n",
       "        0.        ,  0.        ,  0.        ,  0.        ,  0.        ,\n",
       "        0.        ,  0.        ,  0.        ,  0.        ,  0.        ,\n",
       "        0.        ,  0.        ,  0.        ,  0.        ,  0.        ,\n",
       "        0.        ,  0.11980064,  0.14464758,  0.        ,  0.6068692 ,\n",
       "        0.        ,  0.        ,  0.06160087,  0.        ,  0.06708172,\n",
       "        0.        ,  0.        ,  0.        ])"
      ]
     },
     "execution_count": 74,
     "metadata": {},
     "output_type": "execute_result"
    }
   ],
   "source": [
    "df_entropy.feature_importances_"
   ]
  },
  {
   "cell_type": "code",
   "execution_count": 75,
   "metadata": {
    "collapsed": true
   },
   "outputs": [],
   "source": [
    "tree.export_graphviz(df_gini,feature_names=df.columns.values[1:44],out_file='tree_entropy.dot')"
   ]
  },
  {
   "cell_type": "code",
   "execution_count": 84,
   "metadata": {},
   "outputs": [
    {
     "data": {
      "text/plain": [
       "array(['walking', 'walking', 'running', 'running', 'walking', 'running',\n",
       "       'walking', 'walking', 'walking', 'running', 'walking', 'walking',\n",
       "       'walking', 'running', 'running', 'walking', 'walking', 'walking',\n",
       "       'walking', 'walking', 'running', 'walking', 'walking', 'walking',\n",
       "       'walking', 'running', 'walking', 'walking', 'walking', 'walking',\n",
       "       'running', 'running', 'walking', 'running', 'walking', 'walking',\n",
       "       'running', 'running', 'walking', 'running', 'running', 'running',\n",
       "       'walking', 'walking', 'walking', 'walking', 'walking', 'running',\n",
       "       'running', 'walking', 'walking', 'walking', 'running', 'walking',\n",
       "       'walking', 'walking', 'running', 'walking', 'walking', 'walking',\n",
       "       'running', 'walking', 'walking', 'running', 'walking', 'walking',\n",
       "       'walking', 'walking', 'walking', 'running', 'walking', 'running',\n",
       "       'walking', 'walking', 'walking', 'running', 'walking', 'running',\n",
       "       'walking'], dtype=object)"
      ]
     },
     "execution_count": 84,
     "metadata": {},
     "output_type": "execute_result"
    }
   ],
   "source": [
    "Y_predict_entropy = df_entropy.predict(X_test)\n",
    "Y_predict_entropy"
   ]
  },
  {
   "cell_type": "code",
   "execution_count": 82,
   "metadata": {},
   "outputs": [
    {
     "data": {
      "text/plain": [
       "0.97468354430379744"
      ]
     },
     "execution_count": 82,
     "metadata": {},
     "output_type": "execute_result"
    }
   ],
   "source": [
    "score_en = accuracy_score(Y_test,Y_predict_entropy)\n",
    "score_en"
   ]
  },
  {
   "cell_type": "code",
   "execution_count": null,
   "metadata": {
    "collapsed": true
   },
   "outputs": [],
   "source": []
  }
 ],
 "metadata": {
  "kernelspec": {
   "display_name": "Python 3",
   "language": "python",
   "name": "python3"
  },
  "language_info": {
   "codemirror_mode": {
    "name": "ipython",
    "version": 3
   },
   "file_extension": ".py",
   "mimetype": "text/x-python",
   "name": "python",
   "nbconvert_exporter": "python",
   "pygments_lexer": "ipython3",
   "version": "3.6.3"
  }
 },
 "nbformat": 4,
 "nbformat_minor": 2
}
