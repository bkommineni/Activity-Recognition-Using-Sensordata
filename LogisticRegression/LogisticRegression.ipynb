{
 "cells": [
  {
   "cell_type": "code",
   "execution_count": 86,
   "metadata": {
    "collapsed": true
   },
   "outputs": [],
   "source": [
    "import pandas as pd\n",
    "import pandas as pd\n",
    "from sklearn.linear_model import LogisticRegression\n",
    "from sklearn.metrics import confusion_matrix\n",
    "from sklearn.model_selection import train_test_split\n",
    "from sklearn.metrics import roc_auc_score\n",
    "import numpy as np\n",
    "from pandas import DataFrame,Series\n",
    "from matplotlib.colors import ListedColormap\n"
   ]
  },
  {
   "cell_type": "code",
   "execution_count": 111,
   "metadata": {},
   "outputs": [
    {
     "name": "stdout",
     "output_type": "stream",
     "text": [
      "Shape of training data (406, 47)\n",
      "Users for training the model\n",
      "{'user-id'}\n"
     ]
    }
   ],
   "source": [
    "# Data of Anjani, Bhargavi and Surada for training the model\n",
    "df_features = pd.read_csv(\"H:/mastersProject/activity_analyzer/LogisticRegression/Data/featuresfile.csv\")\n",
    "\n",
    "df_features['color'] = Series([(0 if x == \"walking\" else 1) for x in df_features['Label']])\n",
    "my_color_map = ListedColormap(['r','g'],'mycolormap')\n",
    "# 0,red,walking\n",
    "# 1,green,running\n",
    "\n",
    "df_unique = df_features.drop_duplicates(subset=['User', 'Timestamp'])\n",
    "df_unique.head()\n",
    "df_unique.shape\n",
    "print(\"Shape of training data\", df_unique.shape)\n",
    "\n",
    "X_train_data = df_unique.values[:, 2:45]\n",
    "y_train_data = df_unique.values[:, 45]\n",
    "usersList = set(df_features.values[:,0])\n",
    "# print(\"Users for training the model\")\n",
    "# print(usersList)"
   ]
  },
  {
   "cell_type": "code",
   "execution_count": 112,
   "metadata": {},
   "outputs": [
    {
     "name": "stdout",
     "output_type": "stream",
     "text": [
      "Shape of test data (415, 47)\n",
      "Users for testing the model\n",
      "{'pgarg', 'cjain', 'mbaybay', 'ptiwari3', 'Chai', 'npbandal', 'jding11', 'achan', 'sbgavade', 'rpshah2', 'ahsu6', 'bbalasubramanian'}\n"
     ]
    }
   ],
   "source": [
    "# Data of 12 people for testing the model\n",
    "df_features_test = pd.read_csv(\"H:/mastersProject/activity_analyzer/LogisticRegression/Data/featuresfile_10.csv\")\n",
    "\n",
    "df_features_test['color'] = Series([(0 if x == \"walking\" else 1) for x in df_features_test['Label']])\n",
    "my_color_map = ListedColormap(['r','g'],'mycolormap')\n",
    "# 0,red,walking\n",
    "# 1,green,running\n",
    "\n",
    "df_unique_test = df_features_test.drop_duplicates(subset=['User', 'Timestamp'])\n",
    "df_unique_test.head()\n",
    "print(\"Shape of test data\", df_unique_test.shape)\n",
    "\n",
    "X_test = df_unique_test.values[:, 2:45]\n",
    "y_test = df_unique_test.values[:, 45]\n",
    "usersList = set(df_features_test.values[:,0])\n",
    "print(\"Users for testing the model\")\n",
    "print(usersList)"
   ]
  },
  {
   "cell_type": "code",
   "execution_count": 116,
   "metadata": {},
   "outputs": [
    {
     "name": "stdout",
     "output_type": "stream",
     "text": [
      "Logistic regression Score\n",
      "88.9156626506\n",
      "Importance of features\n",
      "[[ -6.97e-04  -3.10e-03  -5.46e-03  -3.68e-03   2.41e-03   6.92e-03\n",
      "    9.30e-04  -7.65e-03  -9.62e-03  -4.21e-03  -1.97e-03  -6.75e-03\n",
      "   -7.93e-03  -4.63e-03  -2.55e-03  -4.71e-03  -1.54e-03   1.16e-03\n",
      "    1.54e-03   1.46e-03  -8.82e-04  -7.07e-04  -3.10e-03  -7.48e-03\n",
      "   -8.12e-03  -6.55e-03  -2.04e-03   2.24e-03   1.89e-03  -2.51e-04\n",
      "   -8.75e-02   5.63e-02   1.09e-01  -3.09e-01  -2.24e-01  -2.42e-01\n",
      "    8.20e-02   1.63e-01  -3.09e-01  -3.55e-01  -2.70e-01  -3.04e-01\n",
      "   -1.68e-02]]\n"
     ]
    }
   ],
   "source": [
    "# Fitting the logistic regression model\n",
    "lr = LogisticRegression(C=0.01, random_state=10)\n",
    "lr.fit(X_train_data, y_train_data)\n",
    "predict = lr.predict(X_test)\n",
    "logisticRegScore = lr.score(X_test, y_test)\n",
    "print(\"Logistic regression Score\")\n",
    "print(logisticRegScore*100)\n",
    "print(\"Importance of features\")\n",
    "print(lr.coef_)"
   ]
  },
  {
   "cell_type": "code",
   "execution_count": 114,
   "metadata": {},
   "outputs": [
    {
     "name": "stdout",
     "output_type": "stream",
     "text": [
      "[[163  26]\n",
      " [ 20 206]]\n"
     ]
    }
   ],
   "source": [
    "# Confusion matrix analysis\n",
    "cm = confusion_matrix(y_test, predict)\n",
    "print(cm)"
   ]
  },
  {
   "cell_type": "code",
   "execution_count": 107,
   "metadata": {},
   "outputs": [
    {
     "name": "stdout",
     "output_type": "stream",
     "text": [
      "Confusion matrix, without normalization\n",
      "[[163  26]\n",
      " [ 20 206]]\n",
      "Normalized confusion matrix\n",
      "[[ 0.86  0.14]\n",
      " [ 0.09  0.91]]\n"
     ]
    },
    {
     "data": {
      "image/png": "[encoded data removed]",
      "text/plain": [
       "<matplotlib.figure.Figure at 0x20325f0bdd8>"
      ]
     },
     "metadata": {},
     "output_type": "display_data"
    },
    {
     "data": {
      "image/png": "[encoded data removed]",
      "text/plain": [
       "<matplotlib.figure.Figure at 0x2032621b390>"
      ]
     },
     "metadata": {},
     "output_type": "display_data"
    }
   ],
   "source": [
    "import itertools\n",
    "import numpy as np\n",
    "import matplotlib.pyplot as plt\n",
    "\n",
    "def plot_confusion_matrix(cm, classes,\n",
    "                          normalize=False,\n",
    "                          title='Confusion matrix',\n",
    "                          cmap=plt.cm.Purples):\n",
    "    \"\"\"\n",
    "    This function prints and plots the confusion matrix.\n",
    "    Normalization can be applied by setting `normalize=True`.\n",
    "    \"\"\"\n",
    "    if normalize:\n",
    "        cm = cm.astype('float') / cm.sum(axis=1)[:, np.newaxis]\n",
    "        print(\"Normalized confusion matrix\")\n",
    "    else:\n",
    "        print('Confusion matrix, without normalization')\n",
    "\n",
    "    print(cm)\n",
    "\n",
    "    plt.imshow(cm, interpolation='nearest', cmap=cmap)\n",
    "    plt.title(title)\n",
    "    plt.colorbar()\n",
    "    tick_marks = np.arange(len(classes))\n",
    "    plt.xticks(tick_marks, classes)\n",
    "    plt.yticks(tick_marks, classes, rotation=90)\n",
    "\n",
    "    fmt = '.2f' if normalize else 'd'\n",
    "    thresh = cm.max() / 2.\n",
    "    for i, j in itertools.product(range(cm.shape[0]), range(cm.shape[1])):\n",
    "        plt.text(j, i, format(cm[i, j], fmt),\n",
    "                 horizontalalignment=\"center\",\n",
    "                 color=\"white\" if cm[i, j] > thresh else \"black\")\n",
    "\n",
    "#     plt.tight_layout()\n",
    "    plt.ylabel('True label')\n",
    "    plt.xlabel('Predicted label')\n",
    "\n",
    "# Compute confusion matrix\n",
    "cnf_matrix = confusion_matrix(y_test, predict)\n",
    "np.set_printoptions(precision=2)\n",
    "\n",
    "# Plot non-normalized confusion matrix\n",
    "plt.figure()\n",
    "class_names = [\"walking\", \"running\"]\n",
    "plot_confusion_matrix(cnf_matrix, classes=[\"walking\", \"running\"],\n",
    "                      title='Confusion matrix, without normalization')\n",
    "# plt.savefig('H:/mastersProject/activity_analyzer/LogisticRegression/cm_lr', dpi=1000)\n",
    "\n",
    "# Plot normalized confusion matrix\n",
    "plt.figure()\n",
    "plot_confusion_matrix(cnf_matrix, classes=class_names, normalize=True,\n",
    "                      title='Normalized confusion matrix')\n",
    "\n",
    "# plt.savefig('H:/mastersProject/activity_analyzer/LogisticRegression/cm_lr_normalized', dpi=1000)\n",
    "plt.show()\n"
   ]
  },
  {
   "cell_type": "code",
   "execution_count": 117,
   "metadata": {},
   "outputs": [],
   "source": [
    "#Area under ROC \n",
    "from sklearn.metrics import roc_curve\n",
    "from sklearn.metrics import auc\n",
    "from sklearn.preprocessing import LabelEncoder\n",
    "# Compute fpr, tpr, thresholds and roc auc\n",
    "\n",
    "# def encode_label(y_test):\n",
    "#     y_test_binary = []\n",
    "#     for y in y_test:\n",
    "#         if y == \"walking\":\n",
    "#             y_test_binary.append(0)\n",
    "#         else:\n",
    "#             y_test_binary.append(1)\n",
    "#     return y_test_binary\n",
    "# print(y_test)\n",
    "# y_test_binary = encode_label(y_test)\n",
    "# y_predict_binary = encode_label(predict)\n",
    "# print(y_test_binary)\n",
    "# print(y_predict_binary)\n",
    "# # fpr, tpr, thresholds = roc_curve(y_test, predict, pos_label =2)\n",
    "# roc_auc = auc(y_test_binary, y_predict_binary)\n",
    "\n",
    "\n",
    "# # Plot ROC curve\n",
    "# plt.plot(fpr, tpr, label='ROC curve (area = %0.3f)' % roc_auc)\n",
    "# plt.plot([0, 1], [0, 1], 'k--')  # random predictions curve\n",
    "# plt.xlim([0.0, 1.0])\n",
    "# plt.ylim([0.0, 1.0])\n",
    "# plt.xlabel('False Positive Rate or (1 - Specifity)')\n",
    "# plt.ylabel('True Positive Rate or (Sensitivity)')\n",
    "# plt.title('Receiver Operating Characteristic')\n",
    "# plt.legend(loc=\"lower right\")"
   ]
  },
  {
   "cell_type": "code",
   "execution_count": null,
   "metadata": {
    "collapsed": true
   },
   "outputs": [],
   "source": []
  }
 ],
 "metadata": {
  "kernelspec": {
   "display_name": "Python 3",
   "language": "python",
   "name": "python3"
  },
  "language_info": {
   "codemirror_mode": {
    "name": "ipython",
    "version": 3
   },
   "file_extension": ".py",
   "mimetype": "text/x-python",
   "name": "python",
   "nbconvert_exporter": "python",
   "pygments_lexer": "ipython3",
   "version": "3.6.3"
  }
 },
 "nbformat": 4,
 "nbformat_minor": 2
}
