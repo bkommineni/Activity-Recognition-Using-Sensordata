{
 "cells": [
  {
   "cell_type": "code",
   "execution_count": 16,
   "metadata": {
    "collapsed": true
   },
   "outputs": [],
   "source": [
    "import pandas as pd\n",
    "import pandas as pd\n",
    "from sklearn.linear_model import LogisticRegression\n",
    "from sklearn.metrics import confusion_matrix\n",
    "from sklearn.model_selection import train_test_split\n",
    "from sklearn.metrics import roc_auc_score\n",
    "import numpy as np\n",
    "from pandas import DataFrame,Series\n",
    "from matplotlib.colors import ListedColormap\n",
    "from random import sample\n",
    "import matplotlib.pyplot as plt\n"
   ]
  },
  {
   "cell_type": "code",
   "execution_count": null,
   "metadata": {
    "collapsed": true
   },
   "outputs": [],
   "source": [
    "#Description of features\n",
    "#Average[3]: Average acceleration (for each axis)\n",
    "#Standard Deviation[3]: Standard deviation (for each axis)\n",
    "#Average Absolute Difference[3]: Average absolute\n",
    "#difference between the value of each of the 200 readings\n",
    "#within the ED and the mean value over those 200 values\n",
    "#(for each axis)\n",
    "#Average Resultant Acceleration[1]: Average of the square\n",
    "#roots of the sum of the values of each axis squared\n",
    "#over the ED\n",
    "#Time Between Peaks[3]: Time in milliseconds between\n",
    "#peaks in the sinusoidal waves associated with most\n",
    "#activities (for each axis)\n",
    "#Binned Distribution[30]: We determine the range of values\n",
    "#for each axis (maximum – minimum), divide this range into\n",
    "#10 equal sized bins, and then record what fraction of the\n",
    "#200 values fell within each of the bins."
   ]
  },
  {
   "cell_type": "code",
   "execution_count": 17,
   "metadata": {},
   "outputs": [
    {
     "name": "stdout",
     "output_type": "stream",
     "text": [
      "Shape of training data (406, 47)\n"
     ]
    }
   ],
   "source": [
    "# Data of Anjani, Bhargavi and Surada for training the model\n",
    "df_features = pd.read_csv(\"H:/mastersProject/activity_analyzer/LogisticRegression/Data/featuresfile.csv\")\n",
    "\n",
    "df_features['color'] = Series([(0 if x == \"walking\" else 1) for x in df_features['Label']])\n",
    "my_color_map = ListedColormap(['r','g'],'mycolormap')\n",
    "# 0,red,walking\n",
    "# 1,green,running\n",
    "\n",
    "df_unique = df_features.drop_duplicates(subset=['User', 'Timestamp'])\n",
    "df_unique.head()\n",
    "df_unique.describe()\n",
    "print(\"Shape of training data\", df_unique.shape)\n",
    "\n",
    "X_train_data = df_unique.values[:, 2:45]\n",
    "y_train_data = df_unique.values[:, 45]\n",
    "usersList = set(df_features.values[:,0])\n",
    "# print(\"Users for training the model\")\n",
    "# print(usersList)"
   ]
  },
  {
   "cell_type": "code",
   "execution_count": 42,
   "metadata": {},
   "outputs": [
    {
     "name": "stdout",
     "output_type": "stream",
     "text": [
      "Shape of test data (415, 47)\n",
      "Users for testing the model\n",
      "12\n"
     ]
    }
   ],
   "source": [
    "# Data of 12 people for testing the model\n",
    "df_features_test = pd.read_csv(\"H:/mastersProject/activity_analyzer/LogisticRegression/Data/featuresfile_10.csv\")\n",
    "\n",
    "df_features_test['color'] = Series([(0 if x == \"walking\" else 1) for x in df_features_test['Label']])\n",
    "my_color_map = ListedColormap(['r','g'],'mycolormap')\n",
    "# 0,red,walking\n",
    "# 1,green,running\n",
    "\n",
    "df_unique_test = df_features_test.drop_duplicates(subset=['User', 'Timestamp'])\n",
    "df_unique_test.head()\n",
    "print(\"Shape of test data\", df_unique_test.shape)\n",
    "\n",
    "X_test = df_unique_test.values[:, 2:45]\n",
    "y_test = df_unique_test.values[:, 45]\n",
    "usersListSize = len(set(df_features_test.values[:,0]))\n",
    "\n",
    "#Smaller data \n",
    "#Predicting using test data\n",
    "#taking size of test data 10% of training data\n",
    "test_small = df_unique_test.iloc[sample(range(len(df_unique_test)), 40), :]\n",
    "X_test_small = test_small.values[:,2:45]\n",
    "Y_test_small = test_small.values[:,45]\n",
    "\n",
    "print(\"Users for testing the model\")\n",
    "print(usersListSize)"
   ]
  },
  {
   "cell_type": "code",
   "execution_count": 52,
   "metadata": {},
   "outputs": [
    {
     "data": {
      "text/plain": [
       "LogisticRegression(C=0.01, class_weight=None, dual=False, fit_intercept=True,\n",
       "          intercept_scaling=1, max_iter=100, multi_class='ovr', n_jobs=1,\n",
       "          penalty='l2', random_state=1, solver='liblinear', tol=0.0001,\n",
       "          verbose=0, warm_start=False)"
      ]
     },
     "execution_count": 52,
     "metadata": {},
     "output_type": "execute_result"
    }
   ],
   "source": [
    "# Fitting the logistic regression model\n",
    "clf = LogisticRegression(C=0.01, random_state=1)\n",
    "clf.fit(X_train_data, y_train_data)"
   ]
  },
  {
   "cell_type": "code",
   "execution_count": 56,
   "metadata": {},
   "outputs": [
    {
     "name": "stdout",
     "output_type": "stream",
     "text": [
      "Logistic regression Score\n",
      "85.0\n",
      "Coefficients of the features\n",
      "[[ -6.97e-04  -3.10e-03  -5.46e-03  -3.68e-03   2.41e-03   6.92e-03\n",
      "    9.30e-04  -7.65e-03  -9.62e-03  -4.21e-03  -1.97e-03  -6.75e-03\n",
      "   -7.93e-03  -4.63e-03  -2.55e-03  -4.71e-03  -1.54e-03   1.16e-03\n",
      "    1.54e-03   1.46e-03  -8.82e-04  -7.07e-04  -3.10e-03  -7.48e-03\n",
      "   -8.12e-03  -6.55e-03  -2.04e-03   2.24e-03   1.89e-03  -2.51e-04\n",
      "   -8.75e-02   5.63e-02   1.09e-01  -3.09e-01  -2.24e-01  -2.42e-01\n",
      "    8.20e-02   1.63e-01  -3.09e-01  -3.55e-01  -2.70e-01  -3.04e-01\n",
      "   -1.68e-02]]\n",
      "(406, 43)\n",
      "Column Names= ['Bin1,x' 'Bin2,x' 'Bin3,x' 'Bin4,x' 'Bin5,x' 'Bin6,x' 'Bin7,x' 'Bin8,x'\n",
      " 'Bin9,x' 'Bin10,x' 'Bin1,y' 'Bin2,y' 'Bin3,y' 'Bin4,y' 'Bin5,y' 'Bin6,y'\n",
      " 'Bin7,y' 'Bin8,y' 'Bin9,y' 'Bin10,y' 'Bin1,z' 'Bin2,z' 'Bin3,z' 'Bin4,z'\n",
      " 'Bin5,z' 'Bin6,z' 'Bin7,z' 'Bin8,z' 'Bin9,z' 'Bin10,z' 'TimeDiffPeaks-x'\n",
      " 'TimeDiffPeaks-y' 'TimeDiffPeaks-z' 'AvgAbsDiff-x' 'AvgAbsDiff-y'\n",
      " 'AvgAbsDiff-z' 'AvgAcc-x' 'AvgAcc-y' 'AvgAcc-z' 'StdDev-x' 'StdDev-y'\n",
      " 'StdDev-z' 'AvgResAcc']\n",
      "Feature importance= [[  8.53e-06   1.10e-04   2.61e-04   2.39e-04   1.41e-04   3.77e-04\n",
      "    5.79e-05   4.57e-04   4.22e-04   9.72e-05   2.62e-05   2.00e-04\n",
      "    3.31e-04   2.25e-04   1.16e-04   1.97e-04   6.48e-05   6.57e-05\n",
      "    7.93e-05   4.45e-05   1.75e-05   4.31e-05   2.29e-04   4.04e-04\n",
      "    4.29e-04   2.84e-04   7.41e-05   8.10e-05   6.08e-05   4.39e-06\n",
      "    8.74e-01   7.31e-01   1.31e+00   5.10e-01   3.03e-01   4.25e-01\n",
      "    1.14e-01   2.01e-01   2.20e-01   7.53e-01   4.39e-01   7.00e-01\n",
      "    2.05e-03]]\n",
      "[[  4.39e-06   8.53e-06   1.75e-05   2.62e-05   4.31e-05   4.45e-05\n",
      "    5.79e-05   6.08e-05   6.48e-05   6.57e-05   7.41e-05   7.93e-05\n",
      "    8.10e-05   9.72e-05   1.10e-04   1.16e-04   1.41e-04   1.97e-04\n",
      "    2.00e-04   2.25e-04   2.29e-04   2.39e-04   2.61e-04   2.84e-04\n",
      "    3.31e-04   3.77e-04   4.04e-04   4.22e-04   4.29e-04   4.57e-04\n",
      "    2.05e-03   1.14e-01   2.01e-01   2.20e-01   3.03e-01   4.25e-01\n",
      "    4.39e-01   5.10e-01   7.00e-01   7.31e-01   7.53e-01   8.74e-01\n",
      "    1.31e+00]]\n"
     ]
    }
   ],
   "source": [
    "predict = clf.predict(X_test_small)\n",
    "logisticRegScore = clf.score(X_test_small, Y_test_small)\n",
    "\n",
    "plt.figure(1, figsize=(4, 3))\n",
    "plt.clf()\n",
    "print(\"Logistic regression Score\")\n",
    "print(logisticRegScore*100)\n",
    "print(\"Coefficients of the features\")\n",
    "print(clf.coef_)\n",
    "print(X_train_data.shape)\n",
    "\n",
    "# Convert all the values to float \n",
    "float_array=np.array(X_train_data,dtype=np.float32)\n",
    "feature_importance = np.std(float_array, 0)*np.absolute(clf.coef_)\n",
    "\n",
    "np_column_list = np.array(df_unique.columns.tolist())\n",
    "column_names = np_column_list[2:45,]\n",
    "\n",
    "# featureimp_list = feature_importance.split(\" \")\n",
    "# print(\"List= \", featureimp_list)\n",
    "print(\"Column Names=\", column_names)\n",
    "print(\"Feature importance=\", feature_importance)\n",
    "print(np.sort(feature_importance))\n",
    "\n",
    "# TimeDiff-X\n",
    "# StdDev-x\n",
    "# TimeDiffPeaks-y"
   ]
  },
  {
   "cell_type": "code",
   "execution_count": 12,
   "metadata": {},
   "outputs": [
    {
     "name": "stdout",
     "output_type": "stream",
     "text": [
      "[[15  1]\n",
      " [ 4 20]]\n"
     ]
    }
   ],
   "source": [
    "# Confusion matrix analysis\n",
    "cm = confusion_matrix(Y_test_small, predict)\n",
    "print(cm)"
   ]
  },
  {
   "cell_type": "code",
   "execution_count": 13,
   "metadata": {},
   "outputs": [
    {
     "name": "stdout",
     "output_type": "stream",
     "text": [
      "Confusion matrix, without normalization\n",
      "[[15  1]\n",
      " [ 4 20]]\n",
      "Normalized confusion matrix\n",
      "[[ 0.94  0.06]\n",
      " [ 0.17  0.83]]\n"
     ]
    },
    {
     "data": {
      "text/plain": [
       "<matplotlib.figure.Figure at 0x18b83e8dc18>"
      ]
     },
     "metadata": {},
     "output_type": "display_data"
    },
    {
     "data": {
      "image/png": "[encoded data removed]",
      "text/plain": [
       "<matplotlib.figure.Figure at 0x18b83877668>"
      ]
     },
     "metadata": {},
     "output_type": "display_data"
    },
    {
     "data": {
      "image/png": "[encoded data removed]",
      "text/plain": [
       "<matplotlib.figure.Figure at 0x18b83abd2b0>"
      ]
     },
     "metadata": {},
     "output_type": "display_data"
    }
   ],
   "source": [
    "#Confusion matrix plot\n",
    "import itertools\n",
    "import numpy as np\n",
    "import matplotlib.pyplot as plt\n",
    "\n",
    "def plot_confusion_matrix(cm, classes,\n",
    "                          normalize=False,\n",
    "                          title='Confusion matrix',\n",
    "                          cmap=plt.cm.GnBu):\n",
    "    \"\"\"\n",
    "    This function prints and plots the confusion matrix.\n",
    "    Normalization can be applied by setting `normalize=True`.\n",
    "    \"\"\"\n",
    "    if normalize:\n",
    "        cm = cm.astype('float') / cm.sum(axis=1)[:, np.newaxis]\n",
    "        print(\"Normalized confusion matrix\")\n",
    "    else:\n",
    "        print('Confusion matrix, without normalization')\n",
    "\n",
    "    print(cm)\n",
    "\n",
    "    plt.imshow(cm, interpolation='nearest', cmap=cmap)\n",
    "    plt.title(title)\n",
    "    plt.colorbar()\n",
    "    tick_marks = np.arange(len(classes))\n",
    "    plt.xticks(tick_marks, classes)\n",
    "    plt.yticks(tick_marks, classes, rotation=90)\n",
    "\n",
    "    fmt = '.2f' if normalize else 'd'\n",
    "    thresh = cm.max() / 2.\n",
    "    for i, j in itertools.product(range(cm.shape[0]), range(cm.shape[1])):\n",
    "        plt.text(j, i, format(cm[i, j], fmt),\n",
    "                 horizontalalignment=\"center\",\n",
    "                 color=\"white\" if cm[i, j] > thresh else \"black\")\n",
    "\n",
    "#     plt.tight_layout()\n",
    "    plt.ylabel('True label')\n",
    "    plt.xlabel('Predicted label')\n",
    "\n",
    "# Compute confusion matrix\n",
    "cnf_matrix = confusion_matrix(Y_test_small, predict)\n",
    "np.set_printoptions(precision=2)\n",
    "\n",
    "# Plot non-normalized confusion matrix\n",
    "plt.figure()\n",
    "class_names = [\"walking\", \"running\"]\n",
    "plot_confusion_matrix(cnf_matrix, classes=[\"walking\", \"running\"],\n",
    "                      title='Confusion matrix, without normalization')\n",
    "plt.savefig('H:/mastersProject/activity_analyzer/LogisticRegression/cm_lr', dpi=1000)\n",
    "\n",
    "# Plot normalized confusion matrix\n",
    "plt.figure()\n",
    "plot_confusion_matrix(cnf_matrix, classes=class_names, normalize=True,\n",
    "                      title='Normalized confusion matrix')\n",
    "\n",
    "plt.savefig('H:/mastersProject/activity_analyzer/LogisticRegression/cm_lr_normalized', dpi=1000)\n",
    "plt.show()\n"
   ]
  },
  {
   "cell_type": "code",
   "execution_count": 70,
   "metadata": {},
   "outputs": [
    {
     "data": {
      "image/png": "[encoded data removed]",
      "text/plain": [
       "<matplotlib.figure.Figure at 0x18b840c2e80>"
      ]
     },
     "metadata": {},
     "output_type": "display_data"
    }
   ],
   "source": [
    "#Area under ROC \n",
    "from sklearn.metrics import roc_curve\n",
    "from sklearn.metrics import auc\n",
    "from sklearn.preprocessing import LabelEncoder\n",
    "import matplotlib.pyplot as plt\n",
    "\n",
    "# Encode the labels for ROC plot\n",
    "def encode_label(y_test):\n",
    "    y_test_binary = []\n",
    "    for y in y_test:\n",
    "        if y == \"walking\":\n",
    "            y_test_binary.append(0)\n",
    "        else:\n",
    "            y_test_binary.append(1)\n",
    "    return y_test_binary\n",
    "\n",
    "y_test_binary = encode_label(Y_test_small)\n",
    "y_predict_binary = encode_label(predict)\n",
    "\n",
    "probas_ = clf.fit(X_train_data, y_train_data).predict_proba(X_test_small)\n",
    "# print(probas_)\n",
    "\n",
    "# Compute fpr, tpr, thresholds and roc auc\n",
    "# fpr, tpr, thresholds = roc_curve(y_test_binary, probas_[:, 1])\n",
    "fpr, tpr, thresholds = roc_curve(y_test_binary, y_predict_binary)\n",
    "roc_auc = auc(fpr, tpr)\n",
    "\n",
    "# # Plot ROC curve\n",
    "plt.plot(fpr, tpr, label='AUC = %0.2f' % roc_auc, color=\"green\")\n",
    "plt.plot([0, 1], [0, 1], 'k--', color=\"salmon\")  # random predictions curve, 50% accuracy\n",
    "plt.xlim([0.0, 1.0])\n",
    "plt.ylim([0.0, 1.0])\n",
    "plt.xlabel('False Positive Rate')\n",
    "plt.ylabel('True Positive Rate')\n",
    "plt.title('Area under ROC curve')\n",
    "plt.legend(loc=\"lower right\")\n",
    "plt.savefig('H:/mastersProject/activity_analyzer/LogisticRegression/roc_lr', dpi=200)\n",
    "plt.show()\n"
   ]
  },
  {
   "cell_type": "code",
   "execution_count": null,
   "metadata": {},
   "outputs": [],
   "source": []
  },
  {
   "cell_type": "code",
   "execution_count": null,
   "metadata": {
    "collapsed": true
   },
   "outputs": [],
   "source": []
  }
 ],
 "metadata": {
  "kernelspec": {
   "display_name": "Python 3",
   "language": "python",
   "name": "python3"
  },
  "language_info": {
   "codemirror_mode": {
    "name": "ipython",
    "version": 3
   },
   "file_extension": ".py",
   "mimetype": "text/x-python",
   "name": "python",
   "nbconvert_exporter": "python",
   "pygments_lexer": "ipython3",
   "version": "3.6.3"
  }
 },
 "nbformat": 4,
 "nbformat_minor": 2
}
