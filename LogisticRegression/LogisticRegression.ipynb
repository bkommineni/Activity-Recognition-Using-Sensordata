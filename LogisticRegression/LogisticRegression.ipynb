{
 "cells": [
  {
   "cell_type": "code",
   "execution_count": 2,
   "metadata": {
    "collapsed": true
   },
   "outputs": [],
   "source": [
    "import pandas as pd\n",
    "import pandas as pd\n",
    "from sklearn.linear_model import LogisticRegression\n",
    "from sklearn.metrics import confusion_matrix\n",
    "from sklearn.model_selection import train_test_split\n",
    "from sklearn.metrics import roc_auc_score\n",
    "import numpy as np"
   ]
  },
  {
   "cell_type": "code",
   "execution_count": 3,
   "metadata": {},
   "outputs": [
    {
     "name": "stdout",
     "output_type": "stream",
     "text": [
      "Users for training the model\n",
      "{'Anjani', 'Bhargavi', 'Surada'}\n",
      "Users for testing the model\n",
      "{'pgarg', 'cjain', 'mbaybay', 'ptiwari3', 'Chai', 'npbandal', 'jding11', 'achan', 'sbgavade', 'rpshah2', 'ahsu6', 'bbalasubramanian'}\n"
     ]
    }
   ],
   "source": [
    "# Data of Anjani, Bhargavi and Surada for training the model\n",
    "df_features = pd.read_csv(\"H:/mastersProject/activity_analyzer/LogisticRegression/Data/featuresfile.csv\")\n",
    "X_train_data = df_features.values[:, 1:44]\n",
    "y_train_data = df_features.values[:, 44]\n",
    "usersList = set(df_features.values[:,0])\n",
    "print(\"Users for training the model\")\n",
    "print(usersList)\n",
    "# Data of 12 people for testing the model\n",
    "df_features_test = pd.read_csv(\"H:/mastersProject/activity_analyzer/LogisticRegression/Data/featuresfile_10.csv\")\n",
    "X_test = df_features_test.values[:, 2:45]\n",
    "y_test = df_features_test.values[:, 45]\n",
    "usersList = set(df_features_test.values[:,0])\n",
    "print(\"Users for testing the model\")\n",
    "print(usersList)"
   ]
  },
  {
   "cell_type": "code",
   "execution_count": 4,
   "metadata": {},
   "outputs": [
    {
     "name": "stdout",
     "output_type": "stream",
     "text": [
      "Importance of features\n",
      "[[-0.04428713 -0.10980405 -0.09281945 -0.02975576 -0.07048953 -0.04791663\n",
      "   0.19319413  0.06625453 -0.28487191 -0.14588925 -0.05611415 -0.3902119\n",
      "  -0.53819686 -0.44442756 -0.01878854 -0.14648825  0.32435065  0.38147093\n",
      "   0.15674629  0.01363013 -0.05527147 -0.04656041  0.41339789  0.14532732\n",
      "   0.16133763 -0.29539818 -0.43668888 -0.14776003 -0.07336433 -0.18017453\n",
      "   0.09129413  0.48563653  0.35681367 -4.40927205 -3.82667241 -1.13283029\n",
      "   1.60704672  1.12371103 -3.96590168 -4.86073903 -4.23544345 -0.60632588\n",
      "   0.36074301]]\n",
      "Logistic regression Score\n",
      "0.868725868726\n"
     ]
    }
   ],
   "source": [
    "# Fitting the logistic regression model\n",
    "lr = LogisticRegression(C=100.0, random_state=1)\n",
    "lr.fit(X_train_data, y_train_data)\n",
    "predict = lr.predict(X_test)\n",
    "logisticRegScore = lr.score(X_test, y_test)\n",
    "print(\"Importance of features\")\n",
    "print(lr.coef_)\n",
    "print(\"Logistic regression Score\")\n",
    "print(logisticRegScore)"
   ]
  },
  {
   "cell_type": "code",
   "execution_count": 5,
   "metadata": {},
   "outputs": [
    {
     "name": "stdout",
     "output_type": "stream",
     "text": [
      "[[237  21]\n",
      " [ 47 213]]\n"
     ]
    }
   ],
   "source": [
    "# Confusion matrix analysis\n",
    "cm = confusion_matrix(y_test, predict)\n",
    "print(cm)"
   ]
  },
  {
   "cell_type": "code",
   "execution_count": 48,
   "metadata": {},
   "outputs": [
    {
     "name": "stdout",
     "output_type": "stream",
     "text": [
      "Confusion matrix, without normalization\n",
      "[[237  21]\n",
      " [ 47 213]]\n",
      "Normalized confusion matrix\n",
      "[[ 0.92  0.08]\n",
      " [ 0.18  0.82]]\n"
     ]
    },
    {
     "data": {
      "image/png": "[encoded data removed]",
      "text/plain": [
       "<matplotlib.figure.Figure at 0x20321b4b860>"
      ]
     },
     "metadata": {},
     "output_type": "display_data"
    },
    {
     "data": {
      "image/png": "[encoded data removed]",
      "text/plain": [
       "<matplotlib.figure.Figure at 0x20321b4b208>"
      ]
     },
     "metadata": {},
     "output_type": "display_data"
    }
   ],
   "source": [
    "import itertools\n",
    "import numpy as np\n",
    "import matplotlib.pyplot as plt\n",
    "\n",
    "def plot_confusion_matrix(cm, classes,\n",
    "                          normalize=False,\n",
    "                          title='Confusion matrix',\n",
    "                          cmap=plt.cm.BuPu):\n",
    "    \"\"\"\n",
    "    This function prints and plots the confusion matrix.\n",
    "    Normalization can be applied by setting `normalize=True`.\n",
    "    \"\"\"\n",
    "    if normalize:\n",
    "        cm = cm.astype('float') / cm.sum(axis=1)[:, np.newaxis]\n",
    "        print(\"Normalized confusion matrix\")\n",
    "    else:\n",
    "        print('Confusion matrix, without normalization')\n",
    "\n",
    "    print(cm)\n",
    "\n",
    "    plt.imshow(cm, interpolation='nearest', cmap=cmap)\n",
    "    plt.title(title)\n",
    "    plt.colorbar()\n",
    "    tick_marks = np.arange(len(classes))\n",
    "    plt.xticks(tick_marks, classes)\n",
    "    plt.yticks(tick_marks, classes, rotation=90)\n",
    "\n",
    "    fmt = '.2f' if normalize else 'd'\n",
    "    thresh = cm.max() / 2.\n",
    "    for i, j in itertools.product(range(cm.shape[0]), range(cm.shape[1])):\n",
    "        plt.text(j, i, format(cm[i, j], fmt),\n",
    "                 horizontalalignment=\"center\",\n",
    "                 color=\"white\" if cm[i, j] > thresh else \"black\")\n",
    "\n",
    "#     plt.tight_layout()\n",
    "    plt.ylabel('True label')\n",
    "    plt.xlabel('Predicted label')\n",
    "\n",
    "# Compute confusion matrix\n",
    "cnf_matrix = confusion_matrix(y_test, predict)\n",
    "np.set_printoptions(precision=2)\n",
    "\n",
    "# Plot non-normalized confusion matrix\n",
    "plt.figure()\n",
    "class_names = [\"walking\", \"running\"]\n",
    "plot_confusion_matrix(cnf_matrix, classes=[\"walking\", \"running\"],\n",
    "                      title='Confusion matrix, without normalization')\n",
    "# plt.savefig('H:/mastersProject/activity_analyzer/LogisticRegression/cm_lr', dpi=1000)\n",
    "\n",
    "# Plot normalized confusion matrix\n",
    "plt.figure()\n",
    "plot_confusion_matrix(cnf_matrix, classes=class_names, normalize=True,\n",
    "                      title='Normalized confusion matrix')\n",
    "\n",
    "plt.savefig('H:/mastersProject/activity_analyzer/LogisticRegression/cm_lr_normalized', dpi=1000)\n",
    "plt.show()\n"
   ]
  },
  {
   "cell_type": "code",
   "execution_count": null,
   "metadata": {
    "collapsed": true
   },
   "outputs": [],
   "source": []
  }
 ],
 "metadata": {
  "kernelspec": {
   "display_name": "Python 3",
   "language": "python",
   "name": "python3"
  },
  "language_info": {
   "codemirror_mode": {
    "name": "ipython",
    "version": 3
   },
   "file_extension": ".py",
   "mimetype": "text/x-python",
   "name": "python",
   "nbconvert_exporter": "python",
   "pygments_lexer": "ipython3",
   "version": "3.6.3"
  }
 },
 "nbformat": 4,
 "nbformat_minor": 2
}
