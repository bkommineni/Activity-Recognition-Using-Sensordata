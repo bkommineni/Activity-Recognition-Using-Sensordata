{
 "cells": [
  {
   "cell_type": "code",
   "execution_count": 1,
   "metadata": {
    "collapsed": true
   },
   "outputs": [],
   "source": [
    "import pandas as pd\n",
    "from sklearn.linear_model import LogisticRegression\n",
    "from sklearn.metrics import confusion_matrix\n",
    "from sklearn.model_selection import train_test_split\n",
    "from sklearn.metrics import roc_auc_score\n",
    "import numpy as np\n",
    "from pandas import DataFrame,Series\n",
    "from matplotlib.colors import ListedColormap\n",
    "from random import sample\n",
    "import matplotlib.pyplot as plt\n"
   ]
  },
  {
   "cell_type": "code",
   "execution_count": 17,
   "metadata": {},
   "outputs": [
    {
     "name": "stdout",
     "output_type": "stream",
     "text": [
      "Shape of training and testing data (821, 46)\n",
      "15\n"
     ]
    }
   ],
   "source": [
    "# Data of 15 people for training & testing the model, splitting the train-test set \n",
    "df_features = pd.read_csv(\"H:/mastersProject/activity_analyzer/LogisticRegression/Data/featuresfile_10.csv\")\n",
    "df_features_3people = pd.read_csv(\"H:/mastersProject/activity_analyzer/LogisticRegression/Data/featuresfile.csv\")\n",
    "\n",
    "frames = [df_features, df_features_3people]\n",
    "df_15 = pd.concat(frames)\n",
    "\n",
    "#Drop duplicates\n",
    "df_unique = df_15.drop_duplicates(subset=['User', 'Timestamp'])\n",
    "df_unique.head()\n",
    "df_unique.describe()\n",
    "print(\"Shape of training and testing data\", df_unique.shape)\n",
    "\n",
    "X_data = df_unique.values[:, 2:45]\n",
    "y_data = df_unique.values[:, 45]\n",
    "usersList = set(df_unique.values[:,0])\n",
    "print(len(usersList)+2) # Userid is for 3 people hence  "
   ]
  },
  {
   "cell_type": "code",
   "execution_count": 18,
   "metadata": {},
   "outputs": [
    {
     "data": {
      "text/plain": [
       "LogisticRegression(C=0.01, class_weight=None, dual=False, fit_intercept=True,\n",
       "          intercept_scaling=1, max_iter=100, multi_class='ovr', n_jobs=1,\n",
       "          penalty='l2', random_state=1, solver='liblinear', tol=0.0001,\n",
       "          verbose=0, warm_start=False)"
      ]
     },
     "execution_count": 18,
     "metadata": {},
     "output_type": "execute_result"
    }
   ],
   "source": [
    "# Splitting the training and testing set by 33%\n",
    "X_train, X_test, y_train, y_test = train_test_split(X_data, y_data, test_size = 0.3, random_state = 42)\n",
    "# Fitting the logistic regression model\n",
    "clf = LogisticRegression(C=0.01, random_state=1)\n",
    "clf.fit(X_train, y_train)"
   ]
  },
  {
   "cell_type": "code",
   "execution_count": 19,
   "metadata": {},
   "outputs": [
    {
     "name": "stdout",
     "output_type": "stream",
     "text": [
      "Logistic regression Score\n",
      "95.1417004049\n",
      "Coefficients of the features\n",
      "[[ -2.31054393e-03  -4.18999361e-03  -7.68049737e-03  -6.73008359e-04\n",
      "    8.89051737e-03   1.58326400e-02   7.78248184e-03  -7.39253755e-03\n",
      "   -1.05935509e-02  -4.50038446e-03  -4.11123837e-03  -8.00785339e-03\n",
      "   -9.81673182e-03  -6.26217494e-03   2.63922862e-04  -2.93999692e-03\n",
      "    4.03506675e-03   6.86358498e-03   7.37677689e-03   4.27038378e-03\n",
      "   -3.68747089e-03  -3.85208413e-03  -1.13626247e-04   1.87845998e-03\n",
      "    7.04841493e-04  -4.34782918e-04  -2.54994531e-04   1.14525297e-03\n",
      "   -9.02447956e-04  -8.51511695e-04  -6.65044092e-02   6.11487841e-02\n",
      "    7.48142953e-02  -3.58883969e-01  -2.53469402e-01  -3.42396804e-01\n",
      "    4.99067902e-02   1.19460745e-01  -9.90639226e-02  -4.15955108e-01\n",
      "   -3.01088118e-01  -4.07693080e-01   1.35578358e-02]]\n",
      "(574, 43)\n",
      "Column Names= ['Bin1,x' 'Bin2,x' 'Bin3,x' 'Bin4,x' 'Bin5,x' 'Bin6,x' 'Bin7,x' 'Bin8,x'\n",
      " 'Bin9,x' 'Bin10,x' 'Bin1,y' 'Bin2,y' 'Bin3,y' 'Bin4,y' 'Bin5,y' 'Bin6,y'\n",
      " 'Bin7,y' 'Bin8,y' 'Bin9,y' 'Bin10,y' 'Bin1,z' 'Bin2,z' 'Bin3,z' 'Bin4,z'\n",
      " 'Bin5,z' 'Bin6,z' 'Bin7,z' 'Bin8,z' 'Bin9,z' 'Bin10,z' 'TimeDiffPeaks-x'\n",
      " 'TimeDiffPeaks-y' 'TimeDiffPeaks-z' 'AvgAbsDiff-x' 'AvgAbsDiff-y'\n",
      " 'AvgAbsDiff-z' 'AvgAcc-x' 'AvgAcc-y' 'AvgAcc-z' 'StdDev-x' 'StdDev-y'\n",
      " 'StdDev-z' 'AvgResAcc']\n",
      "Feature importance= [[  4.51133721e-05   2.04003588e-04   5.38006546e-04   4.37410940e-05\n",
      "    5.58557566e-04   9.71777877e-04   5.04284542e-04   5.05617535e-04\n",
      "    5.52573134e-04   1.18969050e-04   7.64959969e-05   2.73427300e-04\n",
      "    4.45873933e-04   3.26179198e-04   1.31550617e-05   1.37763322e-04\n",
      "    2.05725492e-04   4.08180708e-04   4.31305110e-04   1.39270193e-04\n",
      "    8.01386747e-05   2.21450500e-04   8.07730704e-06   1.01285171e-04\n",
      "    3.99829969e-05   2.27178746e-05   1.08738200e-05   4.19540988e-05\n",
      "    2.53787510e-05   1.34049128e-05   8.55245602e-01   9.49327036e-01\n",
      "    1.03148258e+00   8.63810978e-01   5.43848623e-01   7.15464718e-01\n",
      "    1.23592204e-01   2.06835532e-01   1.23821188e-01   1.25888198e+00\n",
      "    7.95675721e-01   1.08387371e+00   5.44202559e-03]]\n",
      "[[  8.07730704e-06   1.08738200e-05   1.31550617e-05   1.34049128e-05\n",
      "    2.27178746e-05   2.53787510e-05   3.99829969e-05   4.19540988e-05\n",
      "    4.37410940e-05   4.51133721e-05   7.64959969e-05   8.01386747e-05\n",
      "    1.01285171e-04   1.18969050e-04   1.37763322e-04   1.39270193e-04\n",
      "    2.04003588e-04   2.05725492e-04   2.21450500e-04   2.73427300e-04\n",
      "    3.26179198e-04   4.08180708e-04   4.31305110e-04   4.45873933e-04\n",
      "    5.04284542e-04   5.05617535e-04   5.38006546e-04   5.52573134e-04\n",
      "    5.58557566e-04   9.71777877e-04   5.44202559e-03   1.23592204e-01\n",
      "    1.23821188e-01   2.06835532e-01   5.43848623e-01   7.15464718e-01\n",
      "    7.95675721e-01   8.55245602e-01   8.63810978e-01   9.49327036e-01\n",
      "    1.03148258e+00   1.08387371e+00   1.25888198e+00]]\n"
     ]
    }
   ],
   "source": [
    "predict = clf.predict(X_test)\n",
    "logisticRegScore = clf.score(X_test, y_test)\n",
    "\n",
    "plt.figure(1, figsize=(4, 3))\n",
    "plt.clf()\n",
    "print(\"Logistic regression Score\")\n",
    "print(logisticRegScore*100)\n",
    "print(\"Coefficients of the features\")\n",
    "print(clf.coef_)\n",
    "print(X_train.shape)\n",
    "\n",
    "# Convert all the values to float \n",
    "float_array=np.array(X_train,dtype=np.float32)\n",
    "feature_importance = np.std(float_array, 0)*np.absolute(clf.coef_)\n",
    "\n",
    "np_column_list = np.array(df_unique.columns.tolist())\n",
    "column_names = np_column_list[2:45,]\n",
    "\n",
    "# featureimp_list = feature_importance.split(\" \")\n",
    "# print(\"List= \", featureimp_list)\n",
    "print(\"Column Names=\", column_names)\n",
    "print(\"Feature importance=\", feature_importance)\n",
    "print(np.sort(feature_importance))\n",
    "\n",
    "# TimeDiff-X\n",
    "# StdDev-x\n",
    "# TimeDiffPeaks-y"
   ]
  },
  {
   "cell_type": "code",
   "execution_count": 20,
   "metadata": {},
   "outputs": [
    {
     "name": "stdout",
     "output_type": "stream",
     "text": [
      "[[130   6]\n",
      " [  6 105]]\n"
     ]
    }
   ],
   "source": [
    "from sklearn.metrics import confusion_matrix\n",
    "\n",
    "cm = confusion_matrix(y_test, predict, labels=[\"walking\", \"running\"])\n",
    "print(cm)"
   ]
  },
  {
   "cell_type": "code",
   "execution_count": 21,
   "metadata": {},
   "outputs": [
    {
     "name": "stdout",
     "output_type": "stream",
     "text": [
      "0.950914149444\n"
     ]
    },
    {
     "data": {
      "image/png": "[encoded data removed]",
      "text/plain": [
       "<matplotlib.figure.Figure at 0x2999ea38080>"
      ]
     },
     "metadata": {},
     "output_type": "display_data"
    }
   ],
   "source": [
    "#Area under ROC \n",
    "from sklearn.metrics import roc_curve\n",
    "from sklearn.metrics import auc\n",
    "from sklearn.preprocessing import LabelEncoder\n",
    "import matplotlib.pyplot as plt\n",
    "\n",
    "# # Encode the labels for ROC plot\n",
    "def encode_label(y_test):\n",
    "    y_test_binary = []\n",
    "    for y in y_test:\n",
    "        if y == \"walking\":\n",
    "            y_test_binary.append(1)\n",
    "        else:\n",
    "            y_test_binary.append(0)\n",
    "    return y_test_binary\n",
    "\n",
    "y_test_binary = encode_label(y_test)\n",
    "y_predict_binary = encode_label(predict)\n",
    "\n",
    "# Compute fpr, tpr, thresholds and roc auc\n",
    "# fpr, tpr, thresholds = roc_curve(y_test_binary, probas_[:, 1])\n",
    "fpr, tpr, thresholds = roc_curve(y_test_binary, y_predict_binary)\n",
    "roc_auc = auc(fpr, tpr)\n",
    "print(roc_auc)\n",
    "\n",
    "# Plot ROC curve\n",
    "plt.plot(fpr, tpr, label='AUC = %0.2f' % roc_auc, color=\"green\")\n",
    "plt.plot([0, 1], [0, 1], 'k--', color=\"salmon\")  # random predictions curve, 50% accuracy\n",
    "plt.xlim([0.0, 1.0])\n",
    "plt.ylim([0.0, 1.0])\n",
    "plt.xlabel('False Positive Rate')\n",
    "plt.ylabel('True Positive Rate')\n",
    "plt.title('Area under ROC curve')\n",
    "plt.legend(loc=\"lower right\")\n",
    "# plt.savefig('H:/mastersProject/activity_analyzer/LogisticRegression/roc_lr', dpi=200)\n",
    "plt.show()\n"
   ]
  },
  {
   "cell_type": "code",
   "execution_count": null,
   "metadata": {
    "collapsed": true
   },
   "outputs": [],
   "source": []
  }
 ],
 "metadata": {
  "kernelspec": {
   "display_name": "Python 3",
   "language": "python",
   "name": "python3"
  },
  "language_info": {
   "codemirror_mode": {
    "name": "ipython",
    "version": 3
   },
   "file_extension": ".py",
   "mimetype": "text/x-python",
   "name": "python",
   "nbconvert_exporter": "python",
   "pygments_lexer": "ipython3",
   "version": "3.6.3"
  }
 },
 "nbformat": 4,
 "nbformat_minor": 2
}
