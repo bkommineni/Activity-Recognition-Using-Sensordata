{
 "cells": [
  {
   "cell_type": "code",
   "execution_count": 1,
   "metadata": {
    "collapsed": true
   },
   "outputs": [],
   "source": [
    "import pandas as pd\n",
    "from sklearn.linear_model import LogisticRegression\n",
    "from sklearn.metrics import confusion_matrix\n",
    "from sklearn.model_selection import train_test_split\n",
    "from sklearn.metrics import roc_auc_score\n",
    "import numpy as np\n",
    "from pandas import DataFrame,Series\n",
    "from matplotlib.colors import ListedColormap\n",
    "from random import sample\n",
    "import matplotlib.pyplot as plt\n"
   ]
  },
  {
   "cell_type": "code",
   "execution_count": 4,
   "metadata": {},
   "outputs": [
    {
     "name": "stdout",
     "output_type": "stream",
     "text": [
      "Shape of training and testing data (821, 46)\n",
      "15\n"
     ]
    }
   ],
   "source": [
    "# Data of 15 people for training & testing the model, splitting the train-test set \n",
    "df_features = pd.read_csv(\"H:/mastersProject/activity_analyzer/LogisticRegression/Data/featuresfile_10.csv\")\n",
    "df_features_3people = pd.read_csv(\"H:/mastersProject/activity_analyzer/LogisticRegression/Data/featuresfile.csv\")\n",
    "\n",
    "frames = [df_features, df_features_3people]\n",
    "df_15 = pd.concat(frames)\n",
    "\n",
    "#Drop duplicates\n",
    "df_unique = df_15.drop_duplicates(subset=['User', 'Timestamp'])\n",
    "df_unique.head()\n",
    "df_unique.describe()\n",
    "print(\"Shape of training and testing data\", df_unique.shape)\n",
    "\n",
    "X_data = df_unique.values[:, 2:45]\n",
    "y_data = df_unique.values[:, 45]\n",
    "usersList = set(df_unique.values[:,0])\n",
    "print(len(usersList)+2) # Userid is for 3 people hence  "
   ]
  },
  {
   "cell_type": "code",
   "execution_count": 6,
   "metadata": {},
   "outputs": [
    {
     "data": {
      "text/plain": [
       "LogisticRegression(C=0.01, class_weight=None, dual=False, fit_intercept=True,\n",
       "          intercept_scaling=1, max_iter=100, multi_class='ovr', n_jobs=1,\n",
       "          penalty='l2', random_state=1, solver='liblinear', tol=0.0001,\n",
       "          verbose=0, warm_start=False)"
      ]
     },
     "execution_count": 6,
     "metadata": {},
     "output_type": "execute_result"
    }
   ],
   "source": [
    "# Splitting the training and testing set by 33%\n",
    "X_train, X_test, y_train, y_test = train_test_split(X_data, y_data, test_size = 0.33, random_state = 42)\n",
    "# Fitting the logistic regression model\n",
    "clf = LogisticRegression(C=0.01, random_state=1)\n",
    "clf.fit(X_train, y_train)"
   ]
  },
  {
   "cell_type": "code",
   "execution_count": 9,
   "metadata": {},
   "outputs": [
    {
     "name": "stdout",
     "output_type": "stream",
     "text": [
      "Logistic regression Score\n",
      "95.2029520295\n",
      "Coefficients of the features\n",
      "[[ -2.27658727e-03  -4.33109059e-03  -8.19361746e-03  -1.12167114e-03\n",
      "    8.39744110e-03   1.59354401e-02   7.70941170e-03  -6.50587633e-03\n",
      "   -9.84746560e-03  -4.17763020e-03  -3.97150608e-03  -7.38401821e-03\n",
      "   -9.37709399e-03  -6.46962045e-03   1.55653758e-04  -2.87614307e-03\n",
      "    3.75548377e-03   6.85732060e-03   7.38420808e-03   4.26326533e-03\n",
      "   -3.47273162e-03  -3.52646235e-03  -8.43356319e-05   1.52866626e-03\n",
      "    3.17276648e-04  -5.96757471e-04   6.35076775e-05   1.31835280e-03\n",
      "   -5.78737659e-04  -7.59632202e-04  -6.43644303e-02   5.89593726e-02\n",
      "    7.33384679e-02  -3.54361750e-01  -2.49804221e-01  -3.33732817e-01\n",
      "    4.96195335e-02   1.26346378e-01  -9.51147655e-02  -4.10671927e-01\n",
      "   -2.96865368e-01  -3.98479809e-01   1.17495901e-02]]\n",
      "(550, 43)\n",
      "Column Names= ['Bin1,x' 'Bin2,x' 'Bin3,x' 'Bin4,x' 'Bin5,x' 'Bin6,x' 'Bin7,x' 'Bin8,x'\n",
      " 'Bin9,x' 'Bin10,x' 'Bin1,y' 'Bin2,y' 'Bin3,y' 'Bin4,y' 'Bin5,y' 'Bin6,y'\n",
      " 'Bin7,y' 'Bin8,y' 'Bin9,y' 'Bin10,y' 'Bin1,z' 'Bin2,z' 'Bin3,z' 'Bin4,z'\n",
      " 'Bin5,z' 'Bin6,z' 'Bin7,z' 'Bin8,z' 'Bin9,z' 'Bin10,z' 'TimeDiffPeaks-x'\n",
      " 'TimeDiffPeaks-y' 'TimeDiffPeaks-z' 'AvgAbsDiff-x' 'AvgAbsDiff-y'\n",
      " 'AvgAbsDiff-z' 'AvgAcc-x' 'AvgAcc-y' 'AvgAcc-z' 'StdDev-x' 'StdDev-y'\n",
      " 'StdDev-z' 'AvgResAcc']\n",
      "Feature importance= [[  4.51210672e-05   2.13806574e-04   5.73472398e-04   7.16694391e-05\n",
      "    5.27913677e-04   9.82845945e-04   4.95280130e-04   4.45199729e-04\n",
      "    5.17130669e-04   1.10893246e-04   7.46570933e-05   2.53391396e-04\n",
      "    4.24106620e-04   3.34478990e-04   7.73687539e-06   1.35693186e-04\n",
      "    1.89577957e-04   4.09273708e-04   4.35308498e-04   1.39048616e-04\n",
      "    7.55109139e-05   2.03519943e-04   6.03784730e-06   8.37054101e-05\n",
      "    1.81514225e-05   3.14207686e-05   2.72818876e-06   4.87373135e-05\n",
      "    1.64332315e-05   1.18137449e-05   8.30391359e-01   9.21619905e-01\n",
      "    1.00655259e+00   8.56465079e-01   5.37591537e-01   7.00916065e-01\n",
      "    1.24014775e-01   2.20914156e-01   1.20557788e-01   1.24561416e+00\n",
      "    7.86127595e-01   1.06455267e+00   4.79028656e-03]]\n",
      "[[  2.72818876e-06   6.03784730e-06   7.73687539e-06   1.18137449e-05\n",
      "    1.64332315e-05   1.81514225e-05   3.14207686e-05   4.51210672e-05\n",
      "    4.87373135e-05   7.16694391e-05   7.46570933e-05   7.55109139e-05\n",
      "    8.37054101e-05   1.10893246e-04   1.35693186e-04   1.39048616e-04\n",
      "    1.89577957e-04   2.03519943e-04   2.13806574e-04   2.53391396e-04\n",
      "    3.34478990e-04   4.09273708e-04   4.24106620e-04   4.35308498e-04\n",
      "    4.45199729e-04   4.95280130e-04   5.17130669e-04   5.27913677e-04\n",
      "    5.73472398e-04   9.82845945e-04   4.79028656e-03   1.20557788e-01\n",
      "    1.24014775e-01   2.20914156e-01   5.37591537e-01   7.00916065e-01\n",
      "    7.86127595e-01   8.30391359e-01   8.56465079e-01   9.21619905e-01\n",
      "    1.00655259e+00   1.06455267e+00   1.24561416e+00]]\n"
     ]
    }
   ],
   "source": [
    "predict = clf.predict(X_test)\n",
    "logisticRegScore = clf.score(X_test, y_test)\n",
    "\n",
    "plt.figure(1, figsize=(4, 3))\n",
    "plt.clf()\n",
    "print(\"Logistic regression Score\")\n",
    "print(logisticRegScore*100)\n",
    "print(\"Coefficients of the features\")\n",
    "print(clf.coef_)\n",
    "print(X_train.shape)\n",
    "\n",
    "# Convert all the values to float \n",
    "float_array=np.array(X_train,dtype=np.float32)\n",
    "feature_importance = np.std(float_array, 0)*np.absolute(clf.coef_)\n",
    "\n",
    "np_column_list = np.array(df_unique.columns.tolist())\n",
    "column_names = np_column_list[2:45,]\n",
    "\n",
    "# featureimp_list = feature_importance.split(\" \")\n",
    "# print(\"List= \", featureimp_list)\n",
    "print(\"Column Names=\", column_names)\n",
    "print(\"Feature importance=\", feature_importance)\n",
    "print(np.sort(feature_importance))\n",
    "\n",
    "# TimeDiff-X\n",
    "# StdDev-x\n",
    "# TimeDiffPeaks-y"
   ]
  },
  {
   "cell_type": "code",
   "execution_count": 10,
   "metadata": {},
   "outputs": [
    {
     "name": "stdout",
     "output_type": "stream",
     "text": [
      "[[143   6]\n",
      " [  7 115]]\n"
     ]
    }
   ],
   "source": [
    "from sklearn.metrics import confusion_matrix\n",
    "\n",
    "cm = confusion_matrix(y_test, predict, labels=[\"walking\", \"running\"])\n",
    "print(cm)"
   ]
  },
  {
   "cell_type": "code",
   "execution_count": 15,
   "metadata": {},
   "outputs": [
    {
     "name": "stdout",
     "output_type": "stream",
     "text": [
      "0.951177247222\n"
     ]
    },
    {
     "data": {
      "image/png": "[encoded data removed]",
      "text/plain": [
       "<matplotlib.figure.Figure at 0x2999ea35f28>"
      ]
     },
     "metadata": {},
     "output_type": "display_data"
    }
   ],
   "source": [
    "#Area under ROC \n",
    "from sklearn.metrics import roc_curve\n",
    "from sklearn.metrics import auc\n",
    "from sklearn.preprocessing import LabelEncoder\n",
    "import matplotlib.pyplot as plt\n",
    "\n",
    "# # Encode the labels for ROC plot\n",
    "def encode_label(y_test):\n",
    "    y_test_binary = []\n",
    "    for y in y_test:\n",
    "        if y == \"walking\":\n",
    "            y_test_binary.append(1)\n",
    "        else:\n",
    "            y_test_binary.append(0)\n",
    "    return y_test_binary\n",
    "\n",
    "y_test_binary = encode_label(y_test)\n",
    "y_predict_binary = encode_label(predict)\n",
    "\n",
    "# Compute fpr, tpr, thresholds and roc auc\n",
    "# fpr, tpr, thresholds = roc_curve(y_test_binary, probas_[:, 1])\n",
    "fpr, tpr, thresholds = roc_curve(y_test_binary, y_predict_binary)\n",
    "roc_auc = auc(fpr, tpr)\n",
    "print(roc_auc)\n",
    "\n",
    "# Plot ROC curve\n",
    "plt.plot(fpr, tpr, label='AUC = %0.2f' % roc_auc, color=\"green\")\n",
    "plt.plot([0, 1], [0, 1], 'k--', color=\"salmon\")  # random predictions curve, 50% accuracy\n",
    "plt.xlim([0.0, 1.0])\n",
    "plt.ylim([0.0, 1.0])\n",
    "plt.xlabel('False Positive Rate')\n",
    "plt.ylabel('True Positive Rate')\n",
    "plt.title('Area under ROC curve')\n",
    "plt.legend(loc=\"lower right\")\n",
    "# plt.savefig('H:/mastersProject/activity_analyzer/LogisticRegression/roc_lr', dpi=200)\n",
    "plt.show()\n"
   ]
  },
  {
   "cell_type": "code",
   "execution_count": null,
   "metadata": {
    "collapsed": true
   },
   "outputs": [],
   "source": []
  }
 ],
 "metadata": {
  "kernelspec": {
   "display_name": "Python 3",
   "language": "python",
   "name": "python3"
  },
  "language_info": {
   "codemirror_mode": {
    "name": "ipython",
    "version": 3
   },
   "file_extension": ".py",
   "mimetype": "text/x-python",
   "name": "python",
   "nbconvert_exporter": "python",
   "pygments_lexer": "ipython3",
   "version": "3.6.3"
  }
 },
 "nbformat": 4,
 "nbformat_minor": 2
}
