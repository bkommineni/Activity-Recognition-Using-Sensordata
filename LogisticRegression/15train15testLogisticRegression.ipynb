{
 "cells": [
  {
   "cell_type": "code",
   "execution_count": 2,
   "metadata": {
    "collapsed": true
   },
   "outputs": [],
   "source": [
    "import pandas as pd\n",
    "from sklearn.linear_model import LogisticRegression\n",
    "from sklearn.metrics import confusion_matrix\n",
    "from sklearn.model_selection import train_test_split\n",
    "from sklearn.metrics import roc_auc_score\n",
    "import numpy as np\n",
    "from pandas import DataFrame,Series\n",
    "from matplotlib.colors import ListedColormap\n",
    "from random import sample\n",
    "import matplotlib.pyplot as plt\n"
   ]
  },
  {
   "cell_type": "code",
   "execution_count": 28,
   "metadata": {},
   "outputs": [
    {
     "name": "stdout",
     "output_type": "stream",
     "text": [
      "Shape of training and testing data (821, 46)\n",
      "15\n"
     ]
    }
   ],
   "source": [
    "# Data of 15 people for training & testing the model, splitting the train-test set \n",
    "df_features = pd.read_csv(\"H:/mastersProject/activity_analyzer/LogisticRegression/Data/featuresfile_10.csv\")\n",
    "df_features_3people = pd.read_csv(\"H:/mastersProject/activity_analyzer/LogisticRegression/Data/featuresfile.csv\")\n",
    "\n",
    "frames = [df_features, df_features_3people]\n",
    "df_15 = pd.concat(frames)\n",
    "\n",
    "#Drop duplicates\n",
    "df_unique = df_15.drop_duplicates(subset=['User', 'Timestamp'])\n",
    "df_unique.head()\n",
    "df_unique.describe()\n",
    "print(\"Shape of training and testing data\", df_unique.shape)\n",
    "\n",
    "X_data = df_unique.values[:, 2:45]\n",
    "y_data = df_unique.values[:, 45]\n",
    "usersList = set(df_unique.values[:,0])\n",
    "print(len(usersList)+2) # Userid is for 3 people hence  "
   ]
  },
  {
   "cell_type": "code",
   "execution_count": 33,
   "metadata": {},
   "outputs": [
    {
     "data": {
      "text/plain": [
       "LogisticRegression(C=0.01, class_weight=None, dual=False, fit_intercept=True,\n",
       "          intercept_scaling=1, max_iter=100, multi_class='ovr', n_jobs=1,\n",
       "          penalty='l2', random_state=1, solver='liblinear', tol=0.0001,\n",
       "          verbose=0, warm_start=False)"
      ]
     },
     "execution_count": 33,
     "metadata": {},
     "output_type": "execute_result"
    }
   ],
   "source": [
    "# Splitting the training and testing set by 33%\n",
    "X_train, X_test, y_train, y_test = train_test_split(X_data, y_data, test_size = 0.33, random_state = 42)\n",
    "# Fitting the logistic regression model\n",
    "clf = LogisticRegression(C=0.01, random_state=1)\n",
    "clf.fit(X_train_data, y_train_data)"
   ]
  },
  {
   "cell_type": "code",
   "execution_count": 34,
   "metadata": {},
   "outputs": [
    {
     "name": "stdout",
     "output_type": "stream",
     "text": [
      "Logistic regression Score\n",
      "91.5129151292\n",
      "Coefficients of the features\n",
      "[[ -1.88724066e-03  -9.83008495e-04  -7.51982315e-04   2.61013981e-03\n",
      "    7.50300714e-03   1.30950985e-02   1.29159338e-02  -2.84148288e-03\n",
      "   -7.87069654e-03  -4.50040199e-03  -4.05463549e-03  -5.74055765e-03\n",
      "   -8.46163899e-03  -7.75235496e-03   4.98330745e-03   3.32398493e-03\n",
      "    6.58256647e-03   9.25132771e-03   1.05576544e-02   5.19746532e-03\n",
      "   -3.47413495e-03  -1.39415598e-03  -4.31465910e-06   8.36621507e-03\n",
      "    7.73727324e-03   5.01456960e-03   1.09944892e-04   7.64809839e-04\n",
      "   -4.40003528e-04  -7.86206795e-04  -6.26431955e-02   5.73220522e-02\n",
      "    3.79913212e-02  -2.28526452e-01  -1.67523487e-01  -3.30561409e-01\n",
      "    1.85822547e-02   7.71711888e-02   1.36869849e-01  -2.75264192e-01\n",
      "   -1.99574649e-01  -3.93126106e-01   1.34086526e-01]]\n",
      "(415, 43)\n",
      "Column Names= ['Bin1,x' 'Bin2,x' 'Bin3,x' 'Bin4,x' 'Bin5,x' 'Bin6,x' 'Bin7,x' 'Bin8,x'\n",
      " 'Bin9,x' 'Bin10,x' 'Bin1,y' 'Bin2,y' 'Bin3,y' 'Bin4,y' 'Bin5,y' 'Bin6,y'\n",
      " 'Bin7,y' 'Bin8,y' 'Bin9,y' 'Bin10,y' 'Bin1,z' 'Bin2,z' 'Bin3,z' 'Bin4,z'\n",
      " 'Bin5,z' 'Bin6,z' 'Bin7,z' 'Bin8,z' 'Bin9,z' 'Bin10,z' 'TimeDiffPeaks-x'\n",
      " 'TimeDiffPeaks-y' 'TimeDiffPeaks-z' 'AvgAbsDiff-x' 'AvgAbsDiff-y'\n",
      " 'AvgAbsDiff-z' 'AvgAcc-x' 'AvgAcc-y' 'AvgAcc-z' 'StdDev-x' 'StdDev-y'\n",
      " 'StdDev-z' 'AvgResAcc']\n",
      "Feature importance= [[  4.48742370e-05   6.12770791e-05   6.43884411e-05   1.84528048e-04\n",
      "    4.90206665e-04   8.57052021e-04   9.66032932e-04   2.17131498e-04\n",
      "    4.73716551e-04   1.35381707e-04   8.76404569e-05   2.34028068e-04\n",
      "    4.25776556e-04   4.51614984e-04   2.93454315e-04   1.75874928e-04\n",
      "    3.85374250e-04   5.85910935e-04   6.70409421e-04   1.76955430e-04\n",
      "    7.98199575e-05   7.45241802e-05   2.88511563e-07   4.66495726e-04\n",
      "    4.36039160e-04   2.72148478e-04   5.33048841e-06   3.45973587e-05\n",
      "    1.27707941e-05   1.11860802e-05   8.14255978e-01   9.72441073e-01\n",
      "    5.35279026e-01   6.79151765e-01   4.47578611e-01   8.09979264e-01\n",
      "    6.04110415e-02   1.57436159e-01   2.23125918e-01   1.02865493e+00\n",
      "    6.61125331e-01   1.21453384e+00   2.04830632e-01]]\n",
      "[[  2.88511563e-07   5.33048841e-06   1.11860802e-05   1.27707941e-05\n",
      "    3.45973587e-05   4.48742370e-05   6.12770791e-05   6.43884411e-05\n",
      "    7.45241802e-05   7.98199575e-05   8.76404569e-05   1.35381707e-04\n",
      "    1.75874928e-04   1.76955430e-04   1.84528048e-04   2.17131498e-04\n",
      "    2.34028068e-04   2.72148478e-04   2.93454315e-04   3.85374250e-04\n",
      "    4.25776556e-04   4.36039160e-04   4.51614984e-04   4.66495726e-04\n",
      "    4.73716551e-04   4.90206665e-04   5.85910935e-04   6.70409421e-04\n",
      "    8.57052021e-04   9.66032932e-04   6.04110415e-02   1.57436159e-01\n",
      "    2.04830632e-01   2.23125918e-01   4.47578611e-01   5.35279026e-01\n",
      "    6.61125331e-01   6.79151765e-01   8.09979264e-01   8.14255978e-01\n",
      "    9.72441073e-01   1.02865493e+00   1.21453384e+00]]\n"
     ]
    }
   ],
   "source": [
    "predict = clf.predict(X_test)\n",
    "logisticRegScore = clf.score(X_test, y_test)\n",
    "\n",
    "plt.figure(1, figsize=(4, 3))\n",
    "plt.clf()\n",
    "print(\"Logistic regression Score\")\n",
    "print(logisticRegScore*100)\n",
    "print(\"Coefficients of the features\")\n",
    "print(clf.coef_)\n",
    "print(X_train_data.shape)\n",
    "\n",
    "# Convert all the values to float \n",
    "float_array=np.array(X_train_data,dtype=np.float32)\n",
    "feature_importance = np.std(float_array, 0)*np.absolute(clf.coef_)\n",
    "\n",
    "np_column_list = np.array(df_unique.columns.tolist())\n",
    "column_names = np_column_list[2:45,]\n",
    "\n",
    "# featureimp_list = feature_importance.split(\" \")\n",
    "# print(\"List= \", featureimp_list)\n",
    "print(\"Column Names=\", column_names)\n",
    "print(\"Feature importance=\", feature_importance)\n",
    "print(np.sort(feature_importance))\n",
    "\n",
    "# TimeDiff-X\n",
    "# StdDev-x\n",
    "# TimeDiffPeaks-y"
   ]
  },
  {
   "cell_type": "code",
   "execution_count": 35,
   "metadata": {},
   "outputs": [
    {
     "name": "stdout",
     "output_type": "stream",
     "text": [
      "[[145   4]\n",
      " [ 19 103]]\n"
     ]
    }
   ],
   "source": [
    "from sklearn.metrics import confusion_matrix\n",
    "\n",
    "cm = confusion_matrix(y_test, predict, labels=[\"walking\", \"running\"])\n",
    "print(cm)"
   ]
  },
  {
   "cell_type": "code",
   "execution_count": null,
   "metadata": {
    "collapsed": true
   },
   "outputs": [],
   "source": []
  }
 ],
 "metadata": {
  "kernelspec": {
   "display_name": "Python 3",
   "language": "python",
   "name": "python3"
  },
  "language_info": {
   "codemirror_mode": {
    "name": "ipython",
    "version": 3
   },
   "file_extension": ".py",
   "mimetype": "text/x-python",
   "name": "python",
   "nbconvert_exporter": "python",
   "pygments_lexer": "ipython3",
   "version": "3.6.3"
  }
 },
 "nbformat": 4,
 "nbformat_minor": 2
}
